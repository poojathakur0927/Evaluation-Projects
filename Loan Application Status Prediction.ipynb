{
 "cells": [
  {
   "cell_type": "code",
   "execution_count": 1,
   "id": "de33964b",
   "metadata": {},
   "outputs": [],
   "source": [
    "import pandas as pd\n",
    "import numpy as np\n",
    "import seaborn as sns\n",
    "import matplotlib.pyplot as plt\n",
    "import statsmodels.api as sm\n",
    "from sklearn.preprocessing import PowerTransformer\n",
    "from sklearn.preprocessing import power_transform\n",
    "from sklearn.preprocessing import StandardScaler\n",
    "from sklearn.preprocessing import MinMaxScaler\n",
    "from scipy.stats import zscore\n",
    "from statsmodels.stats.outliers_influence import variance_inflation_factor\n",
    "from sklearn.preprocessing import LabelEncoder\n",
    "import imblearn\n",
    "from imblearn import under_sampling, over_sampling\n",
    "from imblearn.over_sampling import SMOTE\n",
    "from sklearn.model_selection import train_test_split\n",
    "from sklearn.linear_model import LinearRegression,LogisticRegression\n",
    "from sklearn.naive_bayes import GaussianNB\n",
    "from sklearn.tree import DecisionTreeClassifier\n",
    "from sklearn.ensemble import RandomForestClassifier\n",
    "from sklearn.neighbors import KNeighborsClassifier\n",
    "from sklearn.ensemble import GradientBoostingClassifier, AdaBoostClassifier\n",
    "from sklearn.metrics import classification_report, confusion_matrix, roc_curve, accuracy_score\n",
    "from sklearn.linear_model import Lasso,Ridge\n",
    "from sklearn.neighbors import KNeighborsRegressor\n",
    "from sklearn.linear_model import SGDRegressor\n",
    "from sklearn.svm import SVC\n",
    "from sklearn.svm import SVR\n",
    "from sklearn.metrics import r2_score\n",
    "from sklearn.model_selection import cross_val_score\n",
    "from sklearn.metrics import mean_absolute_error\n",
    "from sklearn.metrics import mean_squared_error\n",
    "from sklearn.model_selection import GridSearchCV\n",
    "from sklearn import datasets \n",
    "from sklearn import metrics\n",
    "from sklearn import model_selection\n",
    "from sklearn.metrics import plot_roc_curve \n",
    "import joblib\n",
    "import warnings\n",
    "warnings.filterwarnings('ignore')"
   ]
  },
  {
   "cell_type": "code",
   "execution_count": 2,
   "id": "4ef5d82c",
   "metadata": {},
   "outputs": [],
   "source": [
    "df = pd.read_csv(\"https://raw.githubusercontent.com/dsrscientist/DSData/master/loan_prediction.csv\")"
   ]
  },
  {
   "cell_type": "code",
   "execution_count": 3,
   "id": "540f1b75",
   "metadata": {},
   "outputs": [
    {
     "data": {
      "text/html": [
       "<div>\n",
       "<style scoped>\n",
       "    .dataframe tbody tr th:only-of-type {\n",
       "        vertical-align: middle;\n",
       "    }\n",
       "\n",
       "    .dataframe tbody tr th {\n",
       "        vertical-align: top;\n",
       "    }\n",
       "\n",
       "    .dataframe thead th {\n",
       "        text-align: right;\n",
       "    }\n",
       "</style>\n",
       "<table border=\"1\" class=\"dataframe\">\n",
       "  <thead>\n",
       "    <tr style=\"text-align: right;\">\n",
       "      <th></th>\n",
       "      <th>Loan_ID</th>\n",
       "      <th>Gender</th>\n",
       "      <th>Married</th>\n",
       "      <th>Dependents</th>\n",
       "      <th>Education</th>\n",
       "      <th>Self_Employed</th>\n",
       "      <th>ApplicantIncome</th>\n",
       "      <th>CoapplicantIncome</th>\n",
       "      <th>LoanAmount</th>\n",
       "      <th>Loan_Amount_Term</th>\n",
       "      <th>Credit_History</th>\n",
       "      <th>Property_Area</th>\n",
       "      <th>Loan_Status</th>\n",
       "    </tr>\n",
       "  </thead>\n",
       "  <tbody>\n",
       "    <tr>\n",
       "      <th>0</th>\n",
       "      <td>LP001002</td>\n",
       "      <td>Male</td>\n",
       "      <td>No</td>\n",
       "      <td>0</td>\n",
       "      <td>Graduate</td>\n",
       "      <td>No</td>\n",
       "      <td>5849</td>\n",
       "      <td>0.0</td>\n",
       "      <td>NaN</td>\n",
       "      <td>360.0</td>\n",
       "      <td>1.0</td>\n",
       "      <td>Urban</td>\n",
       "      <td>Y</td>\n",
       "    </tr>\n",
       "    <tr>\n",
       "      <th>1</th>\n",
       "      <td>LP001003</td>\n",
       "      <td>Male</td>\n",
       "      <td>Yes</td>\n",
       "      <td>1</td>\n",
       "      <td>Graduate</td>\n",
       "      <td>No</td>\n",
       "      <td>4583</td>\n",
       "      <td>1508.0</td>\n",
       "      <td>128.0</td>\n",
       "      <td>360.0</td>\n",
       "      <td>1.0</td>\n",
       "      <td>Rural</td>\n",
       "      <td>N</td>\n",
       "    </tr>\n",
       "    <tr>\n",
       "      <th>2</th>\n",
       "      <td>LP001005</td>\n",
       "      <td>Male</td>\n",
       "      <td>Yes</td>\n",
       "      <td>0</td>\n",
       "      <td>Graduate</td>\n",
       "      <td>Yes</td>\n",
       "      <td>3000</td>\n",
       "      <td>0.0</td>\n",
       "      <td>66.0</td>\n",
       "      <td>360.0</td>\n",
       "      <td>1.0</td>\n",
       "      <td>Urban</td>\n",
       "      <td>Y</td>\n",
       "    </tr>\n",
       "    <tr>\n",
       "      <th>3</th>\n",
       "      <td>LP001006</td>\n",
       "      <td>Male</td>\n",
       "      <td>Yes</td>\n",
       "      <td>0</td>\n",
       "      <td>Not Graduate</td>\n",
       "      <td>No</td>\n",
       "      <td>2583</td>\n",
       "      <td>2358.0</td>\n",
       "      <td>120.0</td>\n",
       "      <td>360.0</td>\n",
       "      <td>1.0</td>\n",
       "      <td>Urban</td>\n",
       "      <td>Y</td>\n",
       "    </tr>\n",
       "    <tr>\n",
       "      <th>4</th>\n",
       "      <td>LP001008</td>\n",
       "      <td>Male</td>\n",
       "      <td>No</td>\n",
       "      <td>0</td>\n",
       "      <td>Graduate</td>\n",
       "      <td>No</td>\n",
       "      <td>6000</td>\n",
       "      <td>0.0</td>\n",
       "      <td>141.0</td>\n",
       "      <td>360.0</td>\n",
       "      <td>1.0</td>\n",
       "      <td>Urban</td>\n",
       "      <td>Y</td>\n",
       "    </tr>\n",
       "    <tr>\n",
       "      <th>...</th>\n",
       "      <td>...</td>\n",
       "      <td>...</td>\n",
       "      <td>...</td>\n",
       "      <td>...</td>\n",
       "      <td>...</td>\n",
       "      <td>...</td>\n",
       "      <td>...</td>\n",
       "      <td>...</td>\n",
       "      <td>...</td>\n",
       "      <td>...</td>\n",
       "      <td>...</td>\n",
       "      <td>...</td>\n",
       "      <td>...</td>\n",
       "    </tr>\n",
       "    <tr>\n",
       "      <th>609</th>\n",
       "      <td>LP002978</td>\n",
       "      <td>Female</td>\n",
       "      <td>No</td>\n",
       "      <td>0</td>\n",
       "      <td>Graduate</td>\n",
       "      <td>No</td>\n",
       "      <td>2900</td>\n",
       "      <td>0.0</td>\n",
       "      <td>71.0</td>\n",
       "      <td>360.0</td>\n",
       "      <td>1.0</td>\n",
       "      <td>Rural</td>\n",
       "      <td>Y</td>\n",
       "    </tr>\n",
       "    <tr>\n",
       "      <th>610</th>\n",
       "      <td>LP002979</td>\n",
       "      <td>Male</td>\n",
       "      <td>Yes</td>\n",
       "      <td>3+</td>\n",
       "      <td>Graduate</td>\n",
       "      <td>No</td>\n",
       "      <td>4106</td>\n",
       "      <td>0.0</td>\n",
       "      <td>40.0</td>\n",
       "      <td>180.0</td>\n",
       "      <td>1.0</td>\n",
       "      <td>Rural</td>\n",
       "      <td>Y</td>\n",
       "    </tr>\n",
       "    <tr>\n",
       "      <th>611</th>\n",
       "      <td>LP002983</td>\n",
       "      <td>Male</td>\n",
       "      <td>Yes</td>\n",
       "      <td>1</td>\n",
       "      <td>Graduate</td>\n",
       "      <td>No</td>\n",
       "      <td>8072</td>\n",
       "      <td>240.0</td>\n",
       "      <td>253.0</td>\n",
       "      <td>360.0</td>\n",
       "      <td>1.0</td>\n",
       "      <td>Urban</td>\n",
       "      <td>Y</td>\n",
       "    </tr>\n",
       "    <tr>\n",
       "      <th>612</th>\n",
       "      <td>LP002984</td>\n",
       "      <td>Male</td>\n",
       "      <td>Yes</td>\n",
       "      <td>2</td>\n",
       "      <td>Graduate</td>\n",
       "      <td>No</td>\n",
       "      <td>7583</td>\n",
       "      <td>0.0</td>\n",
       "      <td>187.0</td>\n",
       "      <td>360.0</td>\n",
       "      <td>1.0</td>\n",
       "      <td>Urban</td>\n",
       "      <td>Y</td>\n",
       "    </tr>\n",
       "    <tr>\n",
       "      <th>613</th>\n",
       "      <td>LP002990</td>\n",
       "      <td>Female</td>\n",
       "      <td>No</td>\n",
       "      <td>0</td>\n",
       "      <td>Graduate</td>\n",
       "      <td>Yes</td>\n",
       "      <td>4583</td>\n",
       "      <td>0.0</td>\n",
       "      <td>133.0</td>\n",
       "      <td>360.0</td>\n",
       "      <td>0.0</td>\n",
       "      <td>Semiurban</td>\n",
       "      <td>N</td>\n",
       "    </tr>\n",
       "  </tbody>\n",
       "</table>\n",
       "<p>614 rows × 13 columns</p>\n",
       "</div>"
      ],
      "text/plain": [
       "      Loan_ID  Gender Married Dependents     Education Self_Employed  \\\n",
       "0    LP001002    Male      No          0      Graduate            No   \n",
       "1    LP001003    Male     Yes          1      Graduate            No   \n",
       "2    LP001005    Male     Yes          0      Graduate           Yes   \n",
       "3    LP001006    Male     Yes          0  Not Graduate            No   \n",
       "4    LP001008    Male      No          0      Graduate            No   \n",
       "..        ...     ...     ...        ...           ...           ...   \n",
       "609  LP002978  Female      No          0      Graduate            No   \n",
       "610  LP002979    Male     Yes         3+      Graduate            No   \n",
       "611  LP002983    Male     Yes          1      Graduate            No   \n",
       "612  LP002984    Male     Yes          2      Graduate            No   \n",
       "613  LP002990  Female      No          0      Graduate           Yes   \n",
       "\n",
       "     ApplicantIncome  CoapplicantIncome  LoanAmount  Loan_Amount_Term  \\\n",
       "0               5849                0.0         NaN             360.0   \n",
       "1               4583             1508.0       128.0             360.0   \n",
       "2               3000                0.0        66.0             360.0   \n",
       "3               2583             2358.0       120.0             360.0   \n",
       "4               6000                0.0       141.0             360.0   \n",
       "..               ...                ...         ...               ...   \n",
       "609             2900                0.0        71.0             360.0   \n",
       "610             4106                0.0        40.0             180.0   \n",
       "611             8072              240.0       253.0             360.0   \n",
       "612             7583                0.0       187.0             360.0   \n",
       "613             4583                0.0       133.0             360.0   \n",
       "\n",
       "     Credit_History Property_Area Loan_Status  \n",
       "0               1.0         Urban           Y  \n",
       "1               1.0         Rural           N  \n",
       "2               1.0         Urban           Y  \n",
       "3               1.0         Urban           Y  \n",
       "4               1.0         Urban           Y  \n",
       "..              ...           ...         ...  \n",
       "609             1.0         Rural           Y  \n",
       "610             1.0         Rural           Y  \n",
       "611             1.0         Urban           Y  \n",
       "612             1.0         Urban           Y  \n",
       "613             0.0     Semiurban           N  \n",
       "\n",
       "[614 rows x 13 columns]"
      ]
     },
     "execution_count": 3,
     "metadata": {},
     "output_type": "execute_result"
    }
   ],
   "source": [
    "df"
   ]
  },
  {
   "cell_type": "code",
   "execution_count": 4,
   "id": "f3d6e005",
   "metadata": {},
   "outputs": [
    {
     "data": {
      "text/html": [
       "<div>\n",
       "<style scoped>\n",
       "    .dataframe tbody tr th:only-of-type {\n",
       "        vertical-align: middle;\n",
       "    }\n",
       "\n",
       "    .dataframe tbody tr th {\n",
       "        vertical-align: top;\n",
       "    }\n",
       "\n",
       "    .dataframe thead th {\n",
       "        text-align: right;\n",
       "    }\n",
       "</style>\n",
       "<table border=\"1\" class=\"dataframe\">\n",
       "  <thead>\n",
       "    <tr style=\"text-align: right;\">\n",
       "      <th></th>\n",
       "      <th>Loan_ID</th>\n",
       "      <th>Gender</th>\n",
       "      <th>Married</th>\n",
       "      <th>Dependents</th>\n",
       "      <th>Education</th>\n",
       "      <th>Self_Employed</th>\n",
       "      <th>ApplicantIncome</th>\n",
       "      <th>CoapplicantIncome</th>\n",
       "      <th>LoanAmount</th>\n",
       "      <th>Loan_Amount_Term</th>\n",
       "      <th>Credit_History</th>\n",
       "      <th>Property_Area</th>\n",
       "      <th>Loan_Status</th>\n",
       "    </tr>\n",
       "  </thead>\n",
       "  <tbody>\n",
       "    <tr>\n",
       "      <th>0</th>\n",
       "      <td>LP001002</td>\n",
       "      <td>Male</td>\n",
       "      <td>No</td>\n",
       "      <td>0</td>\n",
       "      <td>Graduate</td>\n",
       "      <td>No</td>\n",
       "      <td>5849</td>\n",
       "      <td>0.0</td>\n",
       "      <td>NaN</td>\n",
       "      <td>360.0</td>\n",
       "      <td>1.0</td>\n",
       "      <td>Urban</td>\n",
       "      <td>Y</td>\n",
       "    </tr>\n",
       "    <tr>\n",
       "      <th>1</th>\n",
       "      <td>LP001003</td>\n",
       "      <td>Male</td>\n",
       "      <td>Yes</td>\n",
       "      <td>1</td>\n",
       "      <td>Graduate</td>\n",
       "      <td>No</td>\n",
       "      <td>4583</td>\n",
       "      <td>1508.0</td>\n",
       "      <td>128.0</td>\n",
       "      <td>360.0</td>\n",
       "      <td>1.0</td>\n",
       "      <td>Rural</td>\n",
       "      <td>N</td>\n",
       "    </tr>\n",
       "    <tr>\n",
       "      <th>2</th>\n",
       "      <td>LP001005</td>\n",
       "      <td>Male</td>\n",
       "      <td>Yes</td>\n",
       "      <td>0</td>\n",
       "      <td>Graduate</td>\n",
       "      <td>Yes</td>\n",
       "      <td>3000</td>\n",
       "      <td>0.0</td>\n",
       "      <td>66.0</td>\n",
       "      <td>360.0</td>\n",
       "      <td>1.0</td>\n",
       "      <td>Urban</td>\n",
       "      <td>Y</td>\n",
       "    </tr>\n",
       "    <tr>\n",
       "      <th>3</th>\n",
       "      <td>LP001006</td>\n",
       "      <td>Male</td>\n",
       "      <td>Yes</td>\n",
       "      <td>0</td>\n",
       "      <td>Not Graduate</td>\n",
       "      <td>No</td>\n",
       "      <td>2583</td>\n",
       "      <td>2358.0</td>\n",
       "      <td>120.0</td>\n",
       "      <td>360.0</td>\n",
       "      <td>1.0</td>\n",
       "      <td>Urban</td>\n",
       "      <td>Y</td>\n",
       "    </tr>\n",
       "    <tr>\n",
       "      <th>4</th>\n",
       "      <td>LP001008</td>\n",
       "      <td>Male</td>\n",
       "      <td>No</td>\n",
       "      <td>0</td>\n",
       "      <td>Graduate</td>\n",
       "      <td>No</td>\n",
       "      <td>6000</td>\n",
       "      <td>0.0</td>\n",
       "      <td>141.0</td>\n",
       "      <td>360.0</td>\n",
       "      <td>1.0</td>\n",
       "      <td>Urban</td>\n",
       "      <td>Y</td>\n",
       "    </tr>\n",
       "  </tbody>\n",
       "</table>\n",
       "</div>"
      ],
      "text/plain": [
       "    Loan_ID Gender Married Dependents     Education Self_Employed  \\\n",
       "0  LP001002   Male      No          0      Graduate            No   \n",
       "1  LP001003   Male     Yes          1      Graduate            No   \n",
       "2  LP001005   Male     Yes          0      Graduate           Yes   \n",
       "3  LP001006   Male     Yes          0  Not Graduate            No   \n",
       "4  LP001008   Male      No          0      Graduate            No   \n",
       "\n",
       "   ApplicantIncome  CoapplicantIncome  LoanAmount  Loan_Amount_Term  \\\n",
       "0             5849                0.0         NaN             360.0   \n",
       "1             4583             1508.0       128.0             360.0   \n",
       "2             3000                0.0        66.0             360.0   \n",
       "3             2583             2358.0       120.0             360.0   \n",
       "4             6000                0.0       141.0             360.0   \n",
       "\n",
       "   Credit_History Property_Area Loan_Status  \n",
       "0             1.0         Urban           Y  \n",
       "1             1.0         Rural           N  \n",
       "2             1.0         Urban           Y  \n",
       "3             1.0         Urban           Y  \n",
       "4             1.0         Urban           Y  "
      ]
     },
     "execution_count": 4,
     "metadata": {},
     "output_type": "execute_result"
    }
   ],
   "source": [
    "df.head()"
   ]
  },
  {
   "cell_type": "code",
   "execution_count": 5,
   "id": "59300145",
   "metadata": {},
   "outputs": [
    {
     "data": {
      "text/html": [
       "<div>\n",
       "<style scoped>\n",
       "    .dataframe tbody tr th:only-of-type {\n",
       "        vertical-align: middle;\n",
       "    }\n",
       "\n",
       "    .dataframe tbody tr th {\n",
       "        vertical-align: top;\n",
       "    }\n",
       "\n",
       "    .dataframe thead th {\n",
       "        text-align: right;\n",
       "    }\n",
       "</style>\n",
       "<table border=\"1\" class=\"dataframe\">\n",
       "  <thead>\n",
       "    <tr style=\"text-align: right;\">\n",
       "      <th></th>\n",
       "      <th>Loan_ID</th>\n",
       "      <th>Gender</th>\n",
       "      <th>Married</th>\n",
       "      <th>Dependents</th>\n",
       "      <th>Education</th>\n",
       "      <th>Self_Employed</th>\n",
       "      <th>ApplicantIncome</th>\n",
       "      <th>CoapplicantIncome</th>\n",
       "      <th>LoanAmount</th>\n",
       "      <th>Loan_Amount_Term</th>\n",
       "      <th>Credit_History</th>\n",
       "      <th>Property_Area</th>\n",
       "      <th>Loan_Status</th>\n",
       "    </tr>\n",
       "  </thead>\n",
       "  <tbody>\n",
       "    <tr>\n",
       "      <th>609</th>\n",
       "      <td>LP002978</td>\n",
       "      <td>Female</td>\n",
       "      <td>No</td>\n",
       "      <td>0</td>\n",
       "      <td>Graduate</td>\n",
       "      <td>No</td>\n",
       "      <td>2900</td>\n",
       "      <td>0.0</td>\n",
       "      <td>71.0</td>\n",
       "      <td>360.0</td>\n",
       "      <td>1.0</td>\n",
       "      <td>Rural</td>\n",
       "      <td>Y</td>\n",
       "    </tr>\n",
       "    <tr>\n",
       "      <th>610</th>\n",
       "      <td>LP002979</td>\n",
       "      <td>Male</td>\n",
       "      <td>Yes</td>\n",
       "      <td>3+</td>\n",
       "      <td>Graduate</td>\n",
       "      <td>No</td>\n",
       "      <td>4106</td>\n",
       "      <td>0.0</td>\n",
       "      <td>40.0</td>\n",
       "      <td>180.0</td>\n",
       "      <td>1.0</td>\n",
       "      <td>Rural</td>\n",
       "      <td>Y</td>\n",
       "    </tr>\n",
       "    <tr>\n",
       "      <th>611</th>\n",
       "      <td>LP002983</td>\n",
       "      <td>Male</td>\n",
       "      <td>Yes</td>\n",
       "      <td>1</td>\n",
       "      <td>Graduate</td>\n",
       "      <td>No</td>\n",
       "      <td>8072</td>\n",
       "      <td>240.0</td>\n",
       "      <td>253.0</td>\n",
       "      <td>360.0</td>\n",
       "      <td>1.0</td>\n",
       "      <td>Urban</td>\n",
       "      <td>Y</td>\n",
       "    </tr>\n",
       "    <tr>\n",
       "      <th>612</th>\n",
       "      <td>LP002984</td>\n",
       "      <td>Male</td>\n",
       "      <td>Yes</td>\n",
       "      <td>2</td>\n",
       "      <td>Graduate</td>\n",
       "      <td>No</td>\n",
       "      <td>7583</td>\n",
       "      <td>0.0</td>\n",
       "      <td>187.0</td>\n",
       "      <td>360.0</td>\n",
       "      <td>1.0</td>\n",
       "      <td>Urban</td>\n",
       "      <td>Y</td>\n",
       "    </tr>\n",
       "    <tr>\n",
       "      <th>613</th>\n",
       "      <td>LP002990</td>\n",
       "      <td>Female</td>\n",
       "      <td>No</td>\n",
       "      <td>0</td>\n",
       "      <td>Graduate</td>\n",
       "      <td>Yes</td>\n",
       "      <td>4583</td>\n",
       "      <td>0.0</td>\n",
       "      <td>133.0</td>\n",
       "      <td>360.0</td>\n",
       "      <td>0.0</td>\n",
       "      <td>Semiurban</td>\n",
       "      <td>N</td>\n",
       "    </tr>\n",
       "  </tbody>\n",
       "</table>\n",
       "</div>"
      ],
      "text/plain": [
       "      Loan_ID  Gender Married Dependents Education Self_Employed  \\\n",
       "609  LP002978  Female      No          0  Graduate            No   \n",
       "610  LP002979    Male     Yes         3+  Graduate            No   \n",
       "611  LP002983    Male     Yes          1  Graduate            No   \n",
       "612  LP002984    Male     Yes          2  Graduate            No   \n",
       "613  LP002990  Female      No          0  Graduate           Yes   \n",
       "\n",
       "     ApplicantIncome  CoapplicantIncome  LoanAmount  Loan_Amount_Term  \\\n",
       "609             2900                0.0        71.0             360.0   \n",
       "610             4106                0.0        40.0             180.0   \n",
       "611             8072              240.0       253.0             360.0   \n",
       "612             7583                0.0       187.0             360.0   \n",
       "613             4583                0.0       133.0             360.0   \n",
       "\n",
       "     Credit_History Property_Area Loan_Status  \n",
       "609             1.0         Rural           Y  \n",
       "610             1.0         Rural           Y  \n",
       "611             1.0         Urban           Y  \n",
       "612             1.0         Urban           Y  \n",
       "613             0.0     Semiurban           N  "
      ]
     },
     "execution_count": 5,
     "metadata": {},
     "output_type": "execute_result"
    }
   ],
   "source": [
    "df.tail()"
   ]
  },
  {
   "cell_type": "code",
   "execution_count": 6,
   "id": "7e532f9e",
   "metadata": {},
   "outputs": [
    {
     "data": {
      "text/plain": [
       "Index(['Loan_ID', 'Gender', 'Married', 'Dependents', 'Education',\n",
       "       'Self_Employed', 'ApplicantIncome', 'CoapplicantIncome', 'LoanAmount',\n",
       "       'Loan_Amount_Term', 'Credit_History', 'Property_Area', 'Loan_Status'],\n",
       "      dtype='object')"
      ]
     },
     "execution_count": 6,
     "metadata": {},
     "output_type": "execute_result"
    }
   ],
   "source": [
    "df.columns"
   ]
  },
  {
   "cell_type": "code",
   "execution_count": 7,
   "id": "17ac807a",
   "metadata": {},
   "outputs": [
    {
     "data": {
      "text/plain": [
       "(614, 13)"
      ]
     },
     "execution_count": 7,
     "metadata": {},
     "output_type": "execute_result"
    }
   ],
   "source": [
    "df.shape"
   ]
  },
  {
   "cell_type": "code",
   "execution_count": 8,
   "id": "6edfa193",
   "metadata": {},
   "outputs": [
    {
     "data": {
      "text/html": [
       "<div>\n",
       "<style scoped>\n",
       "    .dataframe tbody tr th:only-of-type {\n",
       "        vertical-align: middle;\n",
       "    }\n",
       "\n",
       "    .dataframe tbody tr th {\n",
       "        vertical-align: top;\n",
       "    }\n",
       "\n",
       "    .dataframe thead th {\n",
       "        text-align: right;\n",
       "    }\n",
       "</style>\n",
       "<table border=\"1\" class=\"dataframe\">\n",
       "  <thead>\n",
       "    <tr style=\"text-align: right;\">\n",
       "      <th></th>\n",
       "      <th>ApplicantIncome</th>\n",
       "      <th>CoapplicantIncome</th>\n",
       "      <th>LoanAmount</th>\n",
       "      <th>Loan_Amount_Term</th>\n",
       "      <th>Credit_History</th>\n",
       "    </tr>\n",
       "  </thead>\n",
       "  <tbody>\n",
       "    <tr>\n",
       "      <th>count</th>\n",
       "      <td>614.000000</td>\n",
       "      <td>614.000000</td>\n",
       "      <td>592.000000</td>\n",
       "      <td>600.00000</td>\n",
       "      <td>564.000000</td>\n",
       "    </tr>\n",
       "    <tr>\n",
       "      <th>mean</th>\n",
       "      <td>5403.459283</td>\n",
       "      <td>1621.245798</td>\n",
       "      <td>146.412162</td>\n",
       "      <td>342.00000</td>\n",
       "      <td>0.842199</td>\n",
       "    </tr>\n",
       "    <tr>\n",
       "      <th>std</th>\n",
       "      <td>6109.041673</td>\n",
       "      <td>2926.248369</td>\n",
       "      <td>85.587325</td>\n",
       "      <td>65.12041</td>\n",
       "      <td>0.364878</td>\n",
       "    </tr>\n",
       "    <tr>\n",
       "      <th>min</th>\n",
       "      <td>150.000000</td>\n",
       "      <td>0.000000</td>\n",
       "      <td>9.000000</td>\n",
       "      <td>12.00000</td>\n",
       "      <td>0.000000</td>\n",
       "    </tr>\n",
       "    <tr>\n",
       "      <th>25%</th>\n",
       "      <td>2877.500000</td>\n",
       "      <td>0.000000</td>\n",
       "      <td>100.000000</td>\n",
       "      <td>360.00000</td>\n",
       "      <td>1.000000</td>\n",
       "    </tr>\n",
       "    <tr>\n",
       "      <th>50%</th>\n",
       "      <td>3812.500000</td>\n",
       "      <td>1188.500000</td>\n",
       "      <td>128.000000</td>\n",
       "      <td>360.00000</td>\n",
       "      <td>1.000000</td>\n",
       "    </tr>\n",
       "    <tr>\n",
       "      <th>75%</th>\n",
       "      <td>5795.000000</td>\n",
       "      <td>2297.250000</td>\n",
       "      <td>168.000000</td>\n",
       "      <td>360.00000</td>\n",
       "      <td>1.000000</td>\n",
       "    </tr>\n",
       "    <tr>\n",
       "      <th>max</th>\n",
       "      <td>81000.000000</td>\n",
       "      <td>41667.000000</td>\n",
       "      <td>700.000000</td>\n",
       "      <td>480.00000</td>\n",
       "      <td>1.000000</td>\n",
       "    </tr>\n",
       "  </tbody>\n",
       "</table>\n",
       "</div>"
      ],
      "text/plain": [
       "       ApplicantIncome  CoapplicantIncome  LoanAmount  Loan_Amount_Term  \\\n",
       "count       614.000000         614.000000  592.000000         600.00000   \n",
       "mean       5403.459283        1621.245798  146.412162         342.00000   \n",
       "std        6109.041673        2926.248369   85.587325          65.12041   \n",
       "min         150.000000           0.000000    9.000000          12.00000   \n",
       "25%        2877.500000           0.000000  100.000000         360.00000   \n",
       "50%        3812.500000        1188.500000  128.000000         360.00000   \n",
       "75%        5795.000000        2297.250000  168.000000         360.00000   \n",
       "max       81000.000000       41667.000000  700.000000         480.00000   \n",
       "\n",
       "       Credit_History  \n",
       "count      564.000000  \n",
       "mean         0.842199  \n",
       "std          0.364878  \n",
       "min          0.000000  \n",
       "25%          1.000000  \n",
       "50%          1.000000  \n",
       "75%          1.000000  \n",
       "max          1.000000  "
      ]
     },
     "execution_count": 8,
     "metadata": {},
     "output_type": "execute_result"
    }
   ],
   "source": [
    "df.describe()"
   ]
  },
  {
   "cell_type": "code",
   "execution_count": 9,
   "id": "44e786a0",
   "metadata": {},
   "outputs": [
    {
     "data": {
      "text/plain": [
       "Loan_ID               0\n",
       "Gender               13\n",
       "Married               3\n",
       "Dependents           15\n",
       "Education             0\n",
       "Self_Employed        32\n",
       "ApplicantIncome       0\n",
       "CoapplicantIncome     0\n",
       "LoanAmount           22\n",
       "Loan_Amount_Term     14\n",
       "Credit_History       50\n",
       "Property_Area         0\n",
       "Loan_Status           0\n",
       "dtype: int64"
      ]
     },
     "execution_count": 9,
     "metadata": {},
     "output_type": "execute_result"
    }
   ],
   "source": [
    "df.isnull().sum()"
   ]
  },
  {
   "cell_type": "code",
   "execution_count": 10,
   "id": "63b9b137",
   "metadata": {},
   "outputs": [
    {
     "data": {
      "text/plain": [
       "149"
      ]
     },
     "execution_count": 10,
     "metadata": {},
     "output_type": "execute_result"
    }
   ],
   "source": [
    "df.isnull().sum().sum()"
   ]
  },
  {
   "cell_type": "code",
   "execution_count": 11,
   "id": "6e0ef2d3",
   "metadata": {},
   "outputs": [
    {
     "data": {
      "text/plain": [
       "<function matplotlib.pyplot.show(close=None, block=None)>"
      ]
     },
     "execution_count": 11,
     "metadata": {},
     "output_type": "execute_result"
    },
    {
     "data": {
      "image/png": "[encoded data removed]",
      "text/plain": [
       "<Figure size 432x288 with 2 Axes>"
      ]
     },
     "metadata": {
      "needs_background": "light"
     },
     "output_type": "display_data"
    }
   ],
   "source": [
    "sns.heatmap(df.isnull())\n",
    "plt.title(\"Null Values\")\n",
    "plt.show"
   ]
  },
  {
   "cell_type": "code",
   "execution_count": 12,
   "id": "0e2e76f8",
   "metadata": {},
   "outputs": [
    {
     "name": "stdout",
     "output_type": "stream",
     "text": [
      "<class 'pandas.core.frame.DataFrame'>\n",
      "RangeIndex: 614 entries, 0 to 613\n",
      "Data columns (total 13 columns):\n",
      " #   Column             Non-Null Count  Dtype  \n",
      "---  ------             --------------  -----  \n",
      " 0   Loan_ID            614 non-null    object \n",
      " 1   Gender             601 non-null    object \n",
      " 2   Married            611 non-null    object \n",
      " 3   Dependents         599 non-null    object \n",
      " 4   Education          614 non-null    object \n",
      " 5   Self_Employed      582 non-null    object \n",
      " 6   ApplicantIncome    614 non-null    int64  \n",
      " 7   CoapplicantIncome  614 non-null    float64\n",
      " 8   LoanAmount         592 non-null    float64\n",
      " 9   Loan_Amount_Term   600 non-null    float64\n",
      " 10  Credit_History     564 non-null    float64\n",
      " 11  Property_Area      614 non-null    object \n",
      " 12  Loan_Status        614 non-null    object \n",
      "dtypes: float64(4), int64(1), object(8)\n",
      "memory usage: 62.5+ KB\n"
     ]
    }
   ],
   "source": [
    "df.info()"
   ]
  },
  {
   "cell_type": "code",
   "execution_count": 13,
   "id": "0c6378e7",
   "metadata": {},
   "outputs": [
    {
     "data": {
      "text/plain": [
       "Loan_ID               object\n",
       "Gender                object\n",
       "Married               object\n",
       "Dependents            object\n",
       "Education             object\n",
       "Self_Employed         object\n",
       "ApplicantIncome        int64\n",
       "CoapplicantIncome    float64\n",
       "LoanAmount           float64\n",
       "Loan_Amount_Term     float64\n",
       "Credit_History       float64\n",
       "Property_Area         object\n",
       "Loan_Status           object\n",
       "dtype: object"
      ]
     },
     "execution_count": 13,
     "metadata": {},
     "output_type": "execute_result"
    }
   ],
   "source": [
    "df.dtypes"
   ]
  },
  {
   "cell_type": "code",
   "execution_count": 14,
   "id": "0c94a39e",
   "metadata": {},
   "outputs": [
    {
     "data": {
      "text/plain": [
       "Loan_ID               0\n",
       "Gender               13\n",
       "Married               3\n",
       "Dependents           15\n",
       "Education             0\n",
       "Self_Employed        32\n",
       "ApplicantIncome       0\n",
       "CoapplicantIncome     0\n",
       "LoanAmount           22\n",
       "Loan_Amount_Term     14\n",
       "Credit_History       50\n",
       "Property_Area         0\n",
       "Loan_Status           0\n",
       "dtype: int64"
      ]
     },
     "execution_count": 14,
     "metadata": {},
     "output_type": "execute_result"
    }
   ],
   "source": [
    "df.isnull().sum()"
   ]
  },
  {
   "cell_type": "code",
   "execution_count": 15,
   "id": "1dccfc4f",
   "metadata": {},
   "outputs": [],
   "source": [
    "df['Gender'] = df['Gender'].fillna(df['Gender'].mode()[0])\n",
    "df['Married'] = df['Married'].fillna(df['Married'].mode()[0])\n",
    "df['Dependents'] = df['Dependents'].fillna(df['Dependents'].mode()[0])\n",
    "df['Self_Employed'] = df['Self_Employed'].fillna(df['Self_Employed'].mode()[0])\n",
    "df['LoanAmount'] = df['LoanAmount'].fillna(df['LoanAmount'].mean())\n",
    "df['Loan_Amount_Term'] = df['Loan_Amount_Term'].fillna(df['Loan_Amount_Term'].mean())\n",
    "df['Credit_History'] = df['Credit_History'].fillna(df['Credit_History'].mean())"
   ]
  },
  {
   "cell_type": "code",
   "execution_count": 16,
   "id": "9514a50a",
   "metadata": {},
   "outputs": [
    {
     "data": {
      "text/html": [
       "<div>\n",
       "<style scoped>\n",
       "    .dataframe tbody tr th:only-of-type {\n",
       "        vertical-align: middle;\n",
       "    }\n",
       "\n",
       "    .dataframe tbody tr th {\n",
       "        vertical-align: top;\n",
       "    }\n",
       "\n",
       "    .dataframe thead th {\n",
       "        text-align: right;\n",
       "    }\n",
       "</style>\n",
       "<table border=\"1\" class=\"dataframe\">\n",
       "  <thead>\n",
       "    <tr style=\"text-align: right;\">\n",
       "      <th></th>\n",
       "      <th>ApplicantIncome</th>\n",
       "      <th>CoapplicantIncome</th>\n",
       "      <th>LoanAmount</th>\n",
       "      <th>Loan_Amount_Term</th>\n",
       "      <th>Credit_History</th>\n",
       "    </tr>\n",
       "  </thead>\n",
       "  <tbody>\n",
       "    <tr>\n",
       "      <th>count</th>\n",
       "      <td>614.000000</td>\n",
       "      <td>614.000000</td>\n",
       "      <td>614.000000</td>\n",
       "      <td>614.000000</td>\n",
       "      <td>614.000000</td>\n",
       "    </tr>\n",
       "    <tr>\n",
       "      <th>mean</th>\n",
       "      <td>5403.459283</td>\n",
       "      <td>1621.245798</td>\n",
       "      <td>146.412162</td>\n",
       "      <td>342.000000</td>\n",
       "      <td>0.842199</td>\n",
       "    </tr>\n",
       "    <tr>\n",
       "      <th>std</th>\n",
       "      <td>6109.041673</td>\n",
       "      <td>2926.248369</td>\n",
       "      <td>84.037468</td>\n",
       "      <td>64.372489</td>\n",
       "      <td>0.349681</td>\n",
       "    </tr>\n",
       "    <tr>\n",
       "      <th>min</th>\n",
       "      <td>150.000000</td>\n",
       "      <td>0.000000</td>\n",
       "      <td>9.000000</td>\n",
       "      <td>12.000000</td>\n",
       "      <td>0.000000</td>\n",
       "    </tr>\n",
       "    <tr>\n",
       "      <th>25%</th>\n",
       "      <td>2877.500000</td>\n",
       "      <td>0.000000</td>\n",
       "      <td>100.250000</td>\n",
       "      <td>360.000000</td>\n",
       "      <td>1.000000</td>\n",
       "    </tr>\n",
       "    <tr>\n",
       "      <th>50%</th>\n",
       "      <td>3812.500000</td>\n",
       "      <td>1188.500000</td>\n",
       "      <td>129.000000</td>\n",
       "      <td>360.000000</td>\n",
       "      <td>1.000000</td>\n",
       "    </tr>\n",
       "    <tr>\n",
       "      <th>75%</th>\n",
       "      <td>5795.000000</td>\n",
       "      <td>2297.250000</td>\n",
       "      <td>164.750000</td>\n",
       "      <td>360.000000</td>\n",
       "      <td>1.000000</td>\n",
       "    </tr>\n",
       "    <tr>\n",
       "      <th>max</th>\n",
       "      <td>81000.000000</td>\n",
       "      <td>41667.000000</td>\n",
       "      <td>700.000000</td>\n",
       "      <td>480.000000</td>\n",
       "      <td>1.000000</td>\n",
       "    </tr>\n",
       "  </tbody>\n",
       "</table>\n",
       "</div>"
      ],
      "text/plain": [
       "       ApplicantIncome  CoapplicantIncome  LoanAmount  Loan_Amount_Term  \\\n",
       "count       614.000000         614.000000  614.000000        614.000000   \n",
       "mean       5403.459283        1621.245798  146.412162        342.000000   \n",
       "std        6109.041673        2926.248369   84.037468         64.372489   \n",
       "min         150.000000           0.000000    9.000000         12.000000   \n",
       "25%        2877.500000           0.000000  100.250000        360.000000   \n",
       "50%        3812.500000        1188.500000  129.000000        360.000000   \n",
       "75%        5795.000000        2297.250000  164.750000        360.000000   \n",
       "max       81000.000000       41667.000000  700.000000        480.000000   \n",
       "\n",
       "       Credit_History  \n",
       "count      614.000000  \n",
       "mean         0.842199  \n",
       "std          0.349681  \n",
       "min          0.000000  \n",
       "25%          1.000000  \n",
       "50%          1.000000  \n",
       "75%          1.000000  \n",
       "max          1.000000  "
      ]
     },
     "execution_count": 16,
     "metadata": {},
     "output_type": "execute_result"
    }
   ],
   "source": [
    "df.describe()"
   ]
  },
  {
   "cell_type": "code",
   "execution_count": 17,
   "id": "f36b15d3",
   "metadata": {},
   "outputs": [
    {
     "data": {
      "text/plain": [
       "0"
      ]
     },
     "execution_count": 17,
     "metadata": {},
     "output_type": "execute_result"
    }
   ],
   "source": [
    "df.isnull().sum().sum()"
   ]
  },
  {
   "cell_type": "code",
   "execution_count": 18,
   "id": "8e51a195",
   "metadata": {},
   "outputs": [
    {
     "data": {
      "text/plain": [
       "<function matplotlib.pyplot.show(close=None, block=None)>"
      ]
     },
     "execution_count": 18,
     "metadata": {},
     "output_type": "execute_result"
    },
    {
     "data": {
      "image/png": "[encoded data removed]",
      "text/plain": [
       "<Figure size 432x288 with 2 Axes>"
      ]
     },
     "metadata": {
      "needs_background": "light"
     },
     "output_type": "display_data"
    }
   ],
   "source": [
    "sns.heatmap(df.isnull())\n",
    "plt.title(\"Null Values\")\n",
    "plt.show"
   ]
  },
  {
   "cell_type": "code",
   "execution_count": 19,
   "id": "e2b847d9",
   "metadata": {},
   "outputs": [
    {
     "data": {
      "text/html": [
       "<div>\n",
       "<style scoped>\n",
       "    .dataframe tbody tr th:only-of-type {\n",
       "        vertical-align: middle;\n",
       "    }\n",
       "\n",
       "    .dataframe tbody tr th {\n",
       "        vertical-align: top;\n",
       "    }\n",
       "\n",
       "    .dataframe thead th {\n",
       "        text-align: right;\n",
       "    }\n",
       "</style>\n",
       "<table border=\"1\" class=\"dataframe\">\n",
       "  <thead>\n",
       "    <tr style=\"text-align: right;\">\n",
       "      <th></th>\n",
       "      <th>Loan_ID</th>\n",
       "      <th>Gender</th>\n",
       "      <th>Married</th>\n",
       "      <th>Dependents</th>\n",
       "      <th>Education</th>\n",
       "      <th>Self_Employed</th>\n",
       "      <th>ApplicantIncome</th>\n",
       "      <th>CoapplicantIncome</th>\n",
       "      <th>LoanAmount</th>\n",
       "      <th>Loan_Amount_Term</th>\n",
       "      <th>Credit_History</th>\n",
       "      <th>Property_Area</th>\n",
       "      <th>Loan_Status</th>\n",
       "    </tr>\n",
       "  </thead>\n",
       "  <tbody>\n",
       "  </tbody>\n",
       "</table>\n",
       "</div>"
      ],
      "text/plain": [
       "Empty DataFrame\n",
       "Columns: [Loan_ID, Gender, Married, Dependents, Education, Self_Employed, ApplicantIncome, CoapplicantIncome, LoanAmount, Loan_Amount_Term, Credit_History, Property_Area, Loan_Status]\n",
       "Index: []"
      ]
     },
     "execution_count": 19,
     "metadata": {},
     "output_type": "execute_result"
    }
   ],
   "source": [
    "df.loc[df['Loan_Status']==\" \"]"
   ]
  },
  {
   "cell_type": "code",
   "execution_count": 20,
   "id": "526db43c",
   "metadata": {},
   "outputs": [],
   "source": [
    "df.drop_duplicates(inplace=True)"
   ]
  },
  {
   "cell_type": "code",
   "execution_count": 21,
   "id": "ef1c31e4",
   "metadata": {},
   "outputs": [
    {
     "data": {
      "text/plain": [
       "(614, 13)"
      ]
     },
     "execution_count": 21,
     "metadata": {},
     "output_type": "execute_result"
    }
   ],
   "source": [
    "df.shape"
   ]
  },
  {
   "cell_type": "code",
   "execution_count": 22,
   "id": "da552912",
   "metadata": {},
   "outputs": [
    {
     "data": {
      "text/plain": [
       "Loan_ID              614\n",
       "Gender                 2\n",
       "Married                2\n",
       "Dependents             4\n",
       "Education              2\n",
       "Self_Employed          2\n",
       "ApplicantIncome      505\n",
       "CoapplicantIncome    287\n",
       "LoanAmount           204\n",
       "Loan_Amount_Term      11\n",
       "Credit_History         3\n",
       "Property_Area          3\n",
       "Loan_Status            2\n",
       "dtype: int64"
      ]
     },
     "execution_count": 22,
     "metadata": {},
     "output_type": "execute_result"
    }
   ],
   "source": [
    "df.nunique()"
   ]
  },
  {
   "cell_type": "code",
   "execution_count": 23,
   "id": "483fe36b",
   "metadata": {},
   "outputs": [
    {
     "name": "stdout",
     "output_type": "stream",
     "text": [
      "['Loan_ID', 'Gender', 'Married', 'Dependents', 'Education', 'Self_Employed', 'Property_Area', 'Loan_Status']\n"
     ]
    }
   ],
   "source": [
    "df_cc=[]\n",
    "for i in df.dtypes.index:\n",
    "    if df.dtypes[i]=='object':\n",
    "        df_cc.append(i)\n",
    "print(df_cc)"
   ]
  },
  {
   "cell_type": "code",
   "execution_count": 24,
   "id": "af65cb5b",
   "metadata": {},
   "outputs": [
    {
     "data": {
      "text/plain": [
       "8"
      ]
     },
     "execution_count": 24,
     "metadata": {},
     "output_type": "execute_result"
    }
   ],
   "source": [
    "len(df_cc)"
   ]
  },
  {
   "cell_type": "code",
   "execution_count": 25,
   "id": "ad9bb634",
   "metadata": {},
   "outputs": [
    {
     "name": "stdout",
     "output_type": "stream",
     "text": [
      "['ApplicantIncome', 'CoapplicantIncome', 'LoanAmount', 'Loan_Amount_Term', 'Credit_History']\n"
     ]
    }
   ],
   "source": [
    "df_nc=[]\n",
    "for i in df.dtypes.index:\n",
    "    if df.dtypes[i]!='object':\n",
    "        df_nc.append(i)\n",
    "print(df_nc)"
   ]
  },
  {
   "cell_type": "code",
   "execution_count": 26,
   "id": "eecfe813",
   "metadata": {},
   "outputs": [
    {
     "data": {
      "text/plain": [
       "5"
      ]
     },
     "execution_count": 26,
     "metadata": {},
     "output_type": "execute_result"
    }
   ],
   "source": [
    "len(df_nc)"
   ]
  },
  {
   "cell_type": "code",
   "execution_count": 27,
   "id": "b617cddb",
   "metadata": {},
   "outputs": [
    {
     "data": {
      "text/plain": [
       "True"
      ]
     },
     "execution_count": 27,
     "metadata": {},
     "output_type": "execute_result"
    }
   ],
   "source": [
    "len(df.dtypes.index)==len(df_nc)+len(df_cc)"
   ]
  },
  {
   "cell_type": "code",
   "execution_count": 28,
   "id": "b83605ff",
   "metadata": {},
   "outputs": [
    {
     "data": {
      "image/png": "[encoded data removed]",
      "text/plain": [
       "<Figure size 428.625x360 with 1 Axes>"
      ]
     },
     "metadata": {
      "needs_background": "light"
     },
     "output_type": "display_data"
    }
   ],
   "source": [
    "sns.catplot(x='Self_Employed',y='ApplicantIncome',data=df,kind='bar',hue='Loan_Status')\n",
    "plt.title(\"Comparision between Loan_Status and ApplicantIncome\")\n",
    "plt.show()"
   ]
  },
  {
   "cell_type": "code",
   "execution_count": 29,
   "id": "348c7257",
   "metadata": {},
   "outputs": [
    {
     "data": {
      "image/png": "[encoded data removed]",
      "text/plain": [
       "<Figure size 428.625x360 with 1 Axes>"
      ]
     },
     "metadata": {
      "needs_background": "light"
     },
     "output_type": "display_data"
    }
   ],
   "source": [
    "sns.catplot(x='Married',y=\"LoanAmount\",data=df,kind='bar',hue=\"Loan_Status\")\n",
    "plt.title(\"Comparision between Loan_Amount_Term and Married\")\n",
    "plt.show()"
   ]
  },
  {
   "cell_type": "code",
   "execution_count": 30,
   "id": "2f1fbac6",
   "metadata": {},
   "outputs": [
    {
     "data": {
      "image/png": "[encoded data removed]",
      "text/plain": [
       "<Figure size 428.625x360 with 1 Axes>"
      ]
     },
     "metadata": {
      "needs_background": "light"
     },
     "output_type": "display_data"
    }
   ],
   "source": [
    "sns.catplot(x='Married',y='ApplicantIncome',data=df,kind='bar',hue='Loan_Status')\n",
    "plt.title(\"Comparision between Loan_Status and ApplicantIncome\")\n",
    "plt.show()"
   ]
  },
  {
   "cell_type": "code",
   "execution_count": 31,
   "id": "4f79633c",
   "metadata": {},
   "outputs": [
    {
     "data": {
      "image/png": "[encoded data removed]",
      "text/plain": [
       "<Figure size 428.625x360 with 1 Axes>"
      ]
     },
     "metadata": {
      "needs_background": "light"
     },
     "output_type": "display_data"
    }
   ],
   "source": [
    "sns.catplot(x='Dependents',y=\"LoanAmount\",data=df,kind='bar',hue='Loan_Status')\n",
    "plt.title(\"Comparision between LoanAmount and Dependents\")\n",
    "plt.show()"
   ]
  },
  {
   "cell_type": "code",
   "execution_count": 32,
   "id": "500132ea",
   "metadata": {},
   "outputs": [
    {
     "data": {
      "image/png": "[encoded data removed]",
      "text/plain": [
       "<Figure size 360x360 with 1 Axes>"
      ]
     },
     "metadata": {
      "needs_background": "light"
     },
     "output_type": "display_data"
    }
   ],
   "source": [
    "sns.catplot(x='Dependents',y=\"Loan_Amount_Term\",data=df,kind='bar')\n",
    "plt.title(\"Comparision between Dependents and Loan_Amount_Term\")\n",
    "plt.show()"
   ]
  },
  {
   "cell_type": "code",
   "execution_count": 33,
   "id": "54a83ded",
   "metadata": {},
   "outputs": [
    {
     "data": {
      "image/png": "[encoded data removed]",
      "text/plain": [
       "<Figure size 432x288 with 1 Axes>"
      ]
     },
     "metadata": {
      "needs_background": "light"
     },
     "output_type": "display_data"
    }
   ],
   "source": [
    "sns.barplot(x='Dependents',y=\"ApplicantIncome\",data=df)\n",
    "plt.title(\"Comparision between Dependents and ApplicantIncome\")\n",
    "plt.show()"
   ]
  },
  {
   "cell_type": "code",
   "execution_count": 34,
   "id": "3b69508c",
   "metadata": {},
   "outputs": [
    {
     "data": {
      "text/plain": [
       "<seaborn.axisgrid.FacetGrid at 0x7f84b1d41700>"
      ]
     },
     "execution_count": 34,
     "metadata": {},
     "output_type": "execute_result"
    },
    {
     "data": {
      "image/png": "[encoded data removed]",
      "text/plain": [
       "<Figure size 428.625x360 with 1 Axes>"
      ]
     },
     "metadata": {
      "needs_background": "light"
     },
     "output_type": "display_data"
    }
   ],
   "source": [
    "plt.style.use('seaborn-bright')\n",
    "sns.relplot(data=df, x='LoanAmount', y='Loan_Amount_Term', hue='Loan_Status')"
   ]
  },
  {
   "cell_type": "code",
   "execution_count": 35,
   "id": "b157c9c7",
   "metadata": {},
   "outputs": [
    {
     "data": {
      "text/plain": [
       "<seaborn.axisgrid.FacetGrid at 0x7f84b22c6520>"
      ]
     },
     "execution_count": 35,
     "metadata": {},
     "output_type": "execute_result"
    },
    {
     "data": {
      "image/png": "[encoded data removed]",
      "text/plain": [
       "<Figure size 428.625x360 with 1 Axes>"
      ]
     },
     "metadata": {
      "needs_background": "light"
     },
     "output_type": "display_data"
    }
   ],
   "source": [
    "sns.relplot(data=df,x='LoanAmount',y='ApplicantIncome',hue='Loan_Status')"
   ]
  },
  {
   "cell_type": "code",
   "execution_count": 36,
   "id": "d71ce3a4",
   "metadata": {},
   "outputs": [
    {
     "name": "stdout",
     "output_type": "stream",
     "text": [
      "Male      502\n",
      "Female    112\n",
      "Name: Gender, dtype: int64\n"
     ]
    },
    {
     "data": {
      "image/png": "[encoded data removed]",
      "text/plain": [
       "<Figure size 720x576 with 1 Axes>"
      ]
     },
     "metadata": {
      "needs_background": "light"
     },
     "output_type": "display_data"
    }
   ],
   "source": [
    "plt.figure(figsize=(10,8))\n",
    "ax = sns.countplot(x=\"Gender\",data=df)\n",
    "print(df[\"Gender\"].value_counts())"
   ]
  },
  {
   "cell_type": "code",
   "execution_count": 37,
   "id": "e583178d",
   "metadata": {},
   "outputs": [
    {
     "name": "stdout",
     "output_type": "stream",
     "text": [
      "Yes    401\n",
      "No     213\n",
      "Name: Married, dtype: int64\n"
     ]
    },
    {
     "data": {
      "image/png": "[encoded data removed]",
      "text/plain": [
       "<Figure size 720x576 with 1 Axes>"
      ]
     },
     "metadata": {
      "needs_background": "light"
     },
     "output_type": "display_data"
    }
   ],
   "source": [
    "plt.figure(figsize=(10,8))\n",
    "ax = sns.countplot(x=\"Married\",data=df)\n",
    "print(df[\"Married\"].value_counts())"
   ]
  },
  {
   "cell_type": "code",
   "execution_count": 38,
   "id": "888e8f0c",
   "metadata": {},
   "outputs": [
    {
     "name": "stdout",
     "output_type": "stream",
     "text": [
      "0     360\n",
      "1     102\n",
      "2     101\n",
      "3+     51\n",
      "Name: Dependents, dtype: int64\n"
     ]
    },
    {
     "data": {
      "image/png": "[encoded data removed]",
      "text/plain": [
       "<Figure size 720x576 with 1 Axes>"
      ]
     },
     "metadata": {
      "needs_background": "light"
     },
     "output_type": "display_data"
    }
   ],
   "source": [
    "plt.figure(figsize=(10,8))\n",
    "ax = sns.countplot(x=\"Dependents\",data=df)\n",
    "print(df[\"Dependents\"].value_counts())"
   ]
  },
  {
   "cell_type": "code",
   "execution_count": 39,
   "id": "6b734160",
   "metadata": {},
   "outputs": [
    {
     "name": "stdout",
     "output_type": "stream",
     "text": [
      "Graduate        480\n",
      "Not Graduate    134\n",
      "Name: Education, dtype: int64\n"
     ]
    },
    {
     "data": {
      "image/png": "[encoded data removed]",
      "text/plain": [
       "<Figure size 720x576 with 1 Axes>"
      ]
     },
     "metadata": {
      "needs_background": "light"
     },
     "output_type": "display_data"
    }
   ],
   "source": [
    "plt.figure(figsize=(10,8))\n",
    "ax = sns.countplot(x=\"Education\",data=df)\n",
    "print(df[\"Education\"].value_counts())"
   ]
  },
  {
   "cell_type": "code",
   "execution_count": 40,
   "id": "977a1ce4",
   "metadata": {},
   "outputs": [
    {
     "name": "stdout",
     "output_type": "stream",
     "text": [
      "No     532\n",
      "Yes     82\n",
      "Name: Self_Employed, dtype: int64\n"
     ]
    },
    {
     "data": {
      "image/png": "[encoded data removed]",
      "text/plain": [
       "<Figure size 720x576 with 1 Axes>"
      ]
     },
     "metadata": {
      "needs_background": "light"
     },
     "output_type": "display_data"
    }
   ],
   "source": [
    "plt.figure(figsize=(10,8))\n",
    "ax = sns.countplot(x=\"Self_Employed\",data=df)\n",
    "print(df[\"Self_Employed\"].value_counts())"
   ]
  },
  {
   "cell_type": "code",
   "execution_count": 41,
   "id": "552d246e",
   "metadata": {},
   "outputs": [
    {
     "name": "stdout",
     "output_type": "stream",
     "text": [
      "146.412162    22\n",
      "120.000000    20\n",
      "110.000000    17\n",
      "100.000000    15\n",
      "160.000000    12\n",
      "              ..\n",
      "240.000000     1\n",
      "214.000000     1\n",
      "59.000000      1\n",
      "166.000000     1\n",
      "253.000000     1\n",
      "Name: LoanAmount, Length: 204, dtype: int64\n"
     ]
    },
    {
     "data": {
      "image/png": "[encoded data removed]",
      "text/plain": [
       "<Figure size 720x576 with 1 Axes>"
      ]
     },
     "metadata": {
      "needs_background": "light"
     },
     "output_type": "display_data"
    }
   ],
   "source": [
    "plt.figure(figsize=(10,8))\n",
    "ax = sns.countplot(x=\"LoanAmount\",data=df)\n",
    "print(df[\"LoanAmount\"].value_counts())"
   ]
  },
  {
   "cell_type": "code",
   "execution_count": 42,
   "id": "2d3f4636",
   "metadata": {},
   "outputs": [
    {
     "name": "stdout",
     "output_type": "stream",
     "text": [
      "360.0    512\n",
      "180.0     44\n",
      "480.0     15\n",
      "342.0     14\n",
      "300.0     13\n",
      "240.0      4\n",
      "84.0       4\n",
      "120.0      3\n",
      "60.0       2\n",
      "36.0       2\n",
      "12.0       1\n",
      "Name: Loan_Amount_Term, dtype: int64\n"
     ]
    },
    {
     "data": {
      "image/png": "[encoded data removed]",
      "text/plain": [
       "<Figure size 720x576 with 1 Axes>"
      ]
     },
     "metadata": {
      "needs_background": "light"
     },
     "output_type": "display_data"
    }
   ],
   "source": [
    "plt.figure(figsize=(10,8))\n",
    "ax = sns.countplot(x=\"Loan_Amount_Term\",data=df)\n",
    "print(df[\"Loan_Amount_Term\"].value_counts())"
   ]
  },
  {
   "cell_type": "code",
   "execution_count": 43,
   "id": "7cc29e74",
   "metadata": {},
   "outputs": [
    {
     "name": "stdout",
     "output_type": "stream",
     "text": [
      "1.000000    475\n",
      "0.000000     89\n",
      "0.842199     50\n",
      "Name: Credit_History, dtype: int64\n"
     ]
    },
    {
     "data": {
      "image/png": "[encoded data removed]",
      "text/plain": [
       "<Figure size 720x576 with 1 Axes>"
      ]
     },
     "metadata": {
      "needs_background": "light"
     },
     "output_type": "display_data"
    }
   ],
   "source": [
    "plt.figure(figsize=(10,8))\n",
    "ax = sns.countplot(x=\"Credit_History\",data=df)\n",
    "print(df[\"Credit_History\"].value_counts())"
   ]
  },
  {
   "cell_type": "code",
   "execution_count": 44,
   "id": "7fb1c086",
   "metadata": {},
   "outputs": [
    {
     "name": "stdout",
     "output_type": "stream",
     "text": [
      "Semiurban    233\n",
      "Urban        202\n",
      "Rural        179\n",
      "Name: Property_Area, dtype: int64\n"
     ]
    },
    {
     "data": {
      "image/png": "[encoded data removed]",
      "text/plain": [
       "<Figure size 720x576 with 1 Axes>"
      ]
     },
     "metadata": {
      "needs_background": "light"
     },
     "output_type": "display_data"
    }
   ],
   "source": [
    "plt.figure(figsize=(10,8))\n",
    "ax = sns.countplot(x=\"Property_Area\",data=df)\n",
    "print(df[\"Property_Area\"].value_counts())"
   ]
  },
  {
   "cell_type": "code",
   "execution_count": 45,
   "id": "b95c5a1c",
   "metadata": {},
   "outputs": [
    {
     "name": "stdout",
     "output_type": "stream",
     "text": [
      "Y    422\n",
      "N    192\n",
      "Name: Loan_Status, dtype: int64\n"
     ]
    },
    {
     "data": {
      "image/png": "[encoded data removed]",
      "text/plain": [
       "<Figure size 720x576 with 1 Axes>"
      ]
     },
     "metadata": {
      "needs_background": "light"
     },
     "output_type": "display_data"
    }
   ],
   "source": [
    "plt.figure(figsize=(10,8))\n",
    "ax = sns.countplot(x=\"Loan_Status\",data=df)\n",
    "print(df[\"Loan_Status\"].value_counts())"
   ]
  },
  {
   "cell_type": "code",
   "execution_count": 46,
   "id": "02d42aed",
   "metadata": {},
   "outputs": [
    {
     "data": {
      "text/plain": [
       "<seaborn.axisgrid.PairGrid at 0x7f8450011190>"
      ]
     },
     "execution_count": 46,
     "metadata": {},
     "output_type": "execute_result"
    },
    {
     "data": {
      "image/png": "[encoded data removed]",
      "text/plain": [
       "<Figure size 900x900 with 30 Axes>"
      ]
     },
     "metadata": {
      "needs_background": "light"
     },
     "output_type": "display_data"
    }
   ],
   "source": [
    "sns.pairplot(df)"
   ]
  },
  {
   "cell_type": "code",
   "execution_count": 47,
   "id": "cc0810ea",
   "metadata": {},
   "outputs": [
    {
     "data": {
      "image/png": "[encoded data removed]",
      "text/plain": [
       "<Figure size 1440x1440 with 5 Axes>"
      ]
     },
     "metadata": {},
     "output_type": "display_data"
    }
   ],
   "source": [
    "plt.figure(figsize=(20,20),facecolor='white')\n",
    "plotnumber=1\n",
    "for column in df_nc:\n",
    "    if plotnumber<=9:\n",
    "        ax=plt.subplot(3,3,plotnumber)\n",
    "        sns.boxplot(df[column],color=\"orange\")\n",
    "        plt.xlabel(column,fontsize=12)\n",
    "    plotnumber+=1\n",
    "plt.tight_layout()"
   ]
  },
  {
   "cell_type": "code",
   "execution_count": 48,
   "id": "105f9ce6",
   "metadata": {},
   "outputs": [
    {
     "data": {
      "text/html": [
       "<div>\n",
       "<style scoped>\n",
       "    .dataframe tbody tr th:only-of-type {\n",
       "        vertical-align: middle;\n",
       "    }\n",
       "\n",
       "    .dataframe tbody tr th {\n",
       "        vertical-align: top;\n",
       "    }\n",
       "\n",
       "    .dataframe thead th {\n",
       "        text-align: right;\n",
       "    }\n",
       "</style>\n",
       "<table border=\"1\" class=\"dataframe\">\n",
       "  <thead>\n",
       "    <tr style=\"text-align: right;\">\n",
       "      <th></th>\n",
       "      <th>ApplicantIncome</th>\n",
       "      <th>CoapplicantIncome</th>\n",
       "      <th>LoanAmount</th>\n",
       "      <th>Loan_Amount_Term</th>\n",
       "      <th>Credit_History</th>\n",
       "    </tr>\n",
       "  </thead>\n",
       "  <tbody>\n",
       "    <tr>\n",
       "      <th>0</th>\n",
       "      <td>0.072991</td>\n",
       "      <td>0.554487</td>\n",
       "      <td>0.000000</td>\n",
       "      <td>0.279851</td>\n",
       "      <td>0.451640</td>\n",
       "    </tr>\n",
       "    <tr>\n",
       "      <th>1</th>\n",
       "      <td>0.134412</td>\n",
       "      <td>0.038732</td>\n",
       "      <td>0.219273</td>\n",
       "      <td>0.279851</td>\n",
       "      <td>0.451640</td>\n",
       "    </tr>\n",
       "    <tr>\n",
       "      <th>2</th>\n",
       "      <td>0.393747</td>\n",
       "      <td>0.554487</td>\n",
       "      <td>0.957641</td>\n",
       "      <td>0.279851</td>\n",
       "      <td>0.451640</td>\n",
       "    </tr>\n",
       "    <tr>\n",
       "      <th>3</th>\n",
       "      <td>0.462062</td>\n",
       "      <td>0.251980</td>\n",
       "      <td>0.314547</td>\n",
       "      <td>0.279851</td>\n",
       "      <td>0.451640</td>\n",
       "    </tr>\n",
       "    <tr>\n",
       "      <th>4</th>\n",
       "      <td>0.097728</td>\n",
       "      <td>0.554487</td>\n",
       "      <td>0.064454</td>\n",
       "      <td>0.279851</td>\n",
       "      <td>0.451640</td>\n",
       "    </tr>\n",
       "    <tr>\n",
       "      <th>...</th>\n",
       "      <td>...</td>\n",
       "      <td>...</td>\n",
       "      <td>...</td>\n",
       "      <td>...</td>\n",
       "      <td>...</td>\n",
       "    </tr>\n",
       "    <tr>\n",
       "      <th>609</th>\n",
       "      <td>0.410130</td>\n",
       "      <td>0.554487</td>\n",
       "      <td>0.898095</td>\n",
       "      <td>0.279851</td>\n",
       "      <td>0.451640</td>\n",
       "    </tr>\n",
       "    <tr>\n",
       "      <th>610</th>\n",
       "      <td>0.212557</td>\n",
       "      <td>0.554487</td>\n",
       "      <td>1.267279</td>\n",
       "      <td>2.518655</td>\n",
       "      <td>0.451640</td>\n",
       "    </tr>\n",
       "    <tr>\n",
       "      <th>611</th>\n",
       "      <td>0.437174</td>\n",
       "      <td>0.472404</td>\n",
       "      <td>1.269371</td>\n",
       "      <td>0.279851</td>\n",
       "      <td>0.451640</td>\n",
       "    </tr>\n",
       "    <tr>\n",
       "      <th>612</th>\n",
       "      <td>0.357064</td>\n",
       "      <td>0.554487</td>\n",
       "      <td>0.483367</td>\n",
       "      <td>0.279851</td>\n",
       "      <td>0.451640</td>\n",
       "    </tr>\n",
       "    <tr>\n",
       "      <th>613</th>\n",
       "      <td>0.134412</td>\n",
       "      <td>0.554487</td>\n",
       "      <td>0.159728</td>\n",
       "      <td>0.279851</td>\n",
       "      <td>2.410441</td>\n",
       "    </tr>\n",
       "  </tbody>\n",
       "</table>\n",
       "<p>614 rows × 5 columns</p>\n",
       "</div>"
      ],
      "text/plain": [
       "     ApplicantIncome  CoapplicantIncome  LoanAmount  Loan_Amount_Term  \\\n",
       "0           0.072991           0.554487    0.000000          0.279851   \n",
       "1           0.134412           0.038732    0.219273          0.279851   \n",
       "2           0.393747           0.554487    0.957641          0.279851   \n",
       "3           0.462062           0.251980    0.314547          0.279851   \n",
       "4           0.097728           0.554487    0.064454          0.279851   \n",
       "..               ...                ...         ...               ...   \n",
       "609         0.410130           0.554487    0.898095          0.279851   \n",
       "610         0.212557           0.554487    1.267279          2.518655   \n",
       "611         0.437174           0.472404    1.269371          0.279851   \n",
       "612         0.357064           0.554487    0.483367          0.279851   \n",
       "613         0.134412           0.554487    0.159728          0.279851   \n",
       "\n",
       "     Credit_History  \n",
       "0          0.451640  \n",
       "1          0.451640  \n",
       "2          0.451640  \n",
       "3          0.451640  \n",
       "4          0.451640  \n",
       "..              ...  \n",
       "609        0.451640  \n",
       "610        0.451640  \n",
       "611        0.451640  \n",
       "612        0.451640  \n",
       "613        2.410441  \n",
       "\n",
       "[614 rows x 5 columns]"
      ]
     },
     "execution_count": 48,
     "metadata": {},
     "output_type": "execute_result"
    }
   ],
   "source": [
    "f = df[['ApplicantIncome', 'CoapplicantIncome', 'LoanAmount', 'Loan_Amount_Term', 'Credit_History']]\n",
    "from scipy.stats import zscore\n",
    "z=np.abs(zscore(f))\n",
    "z"
   ]
  },
  {
   "cell_type": "code",
   "execution_count": 49,
   "id": "8b907bf3",
   "metadata": {},
   "outputs": [
    {
     "data": {
      "text/html": [
       "<div>\n",
       "<style scoped>\n",
       "    .dataframe tbody tr th:only-of-type {\n",
       "        vertical-align: middle;\n",
       "    }\n",
       "\n",
       "    .dataframe tbody tr th {\n",
       "        vertical-align: top;\n",
       "    }\n",
       "\n",
       "    .dataframe thead th {\n",
       "        text-align: right;\n",
       "    }\n",
       "</style>\n",
       "<table border=\"1\" class=\"dataframe\">\n",
       "  <thead>\n",
       "    <tr style=\"text-align: right;\">\n",
       "      <th></th>\n",
       "      <th>Loan_ID</th>\n",
       "      <th>Gender</th>\n",
       "      <th>Married</th>\n",
       "      <th>Dependents</th>\n",
       "      <th>Education</th>\n",
       "      <th>Self_Employed</th>\n",
       "      <th>ApplicantIncome</th>\n",
       "      <th>CoapplicantIncome</th>\n",
       "      <th>LoanAmount</th>\n",
       "      <th>Loan_Amount_Term</th>\n",
       "      <th>Credit_History</th>\n",
       "      <th>Property_Area</th>\n",
       "      <th>Loan_Status</th>\n",
       "    </tr>\n",
       "  </thead>\n",
       "  <tbody>\n",
       "    <tr>\n",
       "      <th>0</th>\n",
       "      <td>LP001002</td>\n",
       "      <td>Male</td>\n",
       "      <td>No</td>\n",
       "      <td>0</td>\n",
       "      <td>Graduate</td>\n",
       "      <td>No</td>\n",
       "      <td>5849</td>\n",
       "      <td>0.0</td>\n",
       "      <td>146.412162</td>\n",
       "      <td>360.0</td>\n",
       "      <td>1.0</td>\n",
       "      <td>Urban</td>\n",
       "      <td>Y</td>\n",
       "    </tr>\n",
       "    <tr>\n",
       "      <th>1</th>\n",
       "      <td>LP001003</td>\n",
       "      <td>Male</td>\n",
       "      <td>Yes</td>\n",
       "      <td>1</td>\n",
       "      <td>Graduate</td>\n",
       "      <td>No</td>\n",
       "      <td>4583</td>\n",
       "      <td>1508.0</td>\n",
       "      <td>128.000000</td>\n",
       "      <td>360.0</td>\n",
       "      <td>1.0</td>\n",
       "      <td>Rural</td>\n",
       "      <td>N</td>\n",
       "    </tr>\n",
       "    <tr>\n",
       "      <th>2</th>\n",
       "      <td>LP001005</td>\n",
       "      <td>Male</td>\n",
       "      <td>Yes</td>\n",
       "      <td>0</td>\n",
       "      <td>Graduate</td>\n",
       "      <td>Yes</td>\n",
       "      <td>3000</td>\n",
       "      <td>0.0</td>\n",
       "      <td>66.000000</td>\n",
       "      <td>360.0</td>\n",
       "      <td>1.0</td>\n",
       "      <td>Urban</td>\n",
       "      <td>Y</td>\n",
       "    </tr>\n",
       "    <tr>\n",
       "      <th>3</th>\n",
       "      <td>LP001006</td>\n",
       "      <td>Male</td>\n",
       "      <td>Yes</td>\n",
       "      <td>0</td>\n",
       "      <td>Not Graduate</td>\n",
       "      <td>No</td>\n",
       "      <td>2583</td>\n",
       "      <td>2358.0</td>\n",
       "      <td>120.000000</td>\n",
       "      <td>360.0</td>\n",
       "      <td>1.0</td>\n",
       "      <td>Urban</td>\n",
       "      <td>Y</td>\n",
       "    </tr>\n",
       "    <tr>\n",
       "      <th>4</th>\n",
       "      <td>LP001008</td>\n",
       "      <td>Male</td>\n",
       "      <td>No</td>\n",
       "      <td>0</td>\n",
       "      <td>Graduate</td>\n",
       "      <td>No</td>\n",
       "      <td>6000</td>\n",
       "      <td>0.0</td>\n",
       "      <td>141.000000</td>\n",
       "      <td>360.0</td>\n",
       "      <td>1.0</td>\n",
       "      <td>Urban</td>\n",
       "      <td>Y</td>\n",
       "    </tr>\n",
       "    <tr>\n",
       "      <th>...</th>\n",
       "      <td>...</td>\n",
       "      <td>...</td>\n",
       "      <td>...</td>\n",
       "      <td>...</td>\n",
       "      <td>...</td>\n",
       "      <td>...</td>\n",
       "      <td>...</td>\n",
       "      <td>...</td>\n",
       "      <td>...</td>\n",
       "      <td>...</td>\n",
       "      <td>...</td>\n",
       "      <td>...</td>\n",
       "      <td>...</td>\n",
       "    </tr>\n",
       "    <tr>\n",
       "      <th>609</th>\n",
       "      <td>LP002978</td>\n",
       "      <td>Female</td>\n",
       "      <td>No</td>\n",
       "      <td>0</td>\n",
       "      <td>Graduate</td>\n",
       "      <td>No</td>\n",
       "      <td>2900</td>\n",
       "      <td>0.0</td>\n",
       "      <td>71.000000</td>\n",
       "      <td>360.0</td>\n",
       "      <td>1.0</td>\n",
       "      <td>Rural</td>\n",
       "      <td>Y</td>\n",
       "    </tr>\n",
       "    <tr>\n",
       "      <th>610</th>\n",
       "      <td>LP002979</td>\n",
       "      <td>Male</td>\n",
       "      <td>Yes</td>\n",
       "      <td>3+</td>\n",
       "      <td>Graduate</td>\n",
       "      <td>No</td>\n",
       "      <td>4106</td>\n",
       "      <td>0.0</td>\n",
       "      <td>40.000000</td>\n",
       "      <td>180.0</td>\n",
       "      <td>1.0</td>\n",
       "      <td>Rural</td>\n",
       "      <td>Y</td>\n",
       "    </tr>\n",
       "    <tr>\n",
       "      <th>611</th>\n",
       "      <td>LP002983</td>\n",
       "      <td>Male</td>\n",
       "      <td>Yes</td>\n",
       "      <td>1</td>\n",
       "      <td>Graduate</td>\n",
       "      <td>No</td>\n",
       "      <td>8072</td>\n",
       "      <td>240.0</td>\n",
       "      <td>253.000000</td>\n",
       "      <td>360.0</td>\n",
       "      <td>1.0</td>\n",
       "      <td>Urban</td>\n",
       "      <td>Y</td>\n",
       "    </tr>\n",
       "    <tr>\n",
       "      <th>612</th>\n",
       "      <td>LP002984</td>\n",
       "      <td>Male</td>\n",
       "      <td>Yes</td>\n",
       "      <td>2</td>\n",
       "      <td>Graduate</td>\n",
       "      <td>No</td>\n",
       "      <td>7583</td>\n",
       "      <td>0.0</td>\n",
       "      <td>187.000000</td>\n",
       "      <td>360.0</td>\n",
       "      <td>1.0</td>\n",
       "      <td>Urban</td>\n",
       "      <td>Y</td>\n",
       "    </tr>\n",
       "    <tr>\n",
       "      <th>613</th>\n",
       "      <td>LP002990</td>\n",
       "      <td>Female</td>\n",
       "      <td>No</td>\n",
       "      <td>0</td>\n",
       "      <td>Graduate</td>\n",
       "      <td>Yes</td>\n",
       "      <td>4583</td>\n",
       "      <td>0.0</td>\n",
       "      <td>133.000000</td>\n",
       "      <td>360.0</td>\n",
       "      <td>0.0</td>\n",
       "      <td>Semiurban</td>\n",
       "      <td>N</td>\n",
       "    </tr>\n",
       "  </tbody>\n",
       "</table>\n",
       "<p>577 rows × 13 columns</p>\n",
       "</div>"
      ],
      "text/plain": [
       "      Loan_ID  Gender Married Dependents     Education Self_Employed  \\\n",
       "0    LP001002    Male      No          0      Graduate            No   \n",
       "1    LP001003    Male     Yes          1      Graduate            No   \n",
       "2    LP001005    Male     Yes          0      Graduate           Yes   \n",
       "3    LP001006    Male     Yes          0  Not Graduate            No   \n",
       "4    LP001008    Male      No          0      Graduate            No   \n",
       "..        ...     ...     ...        ...           ...           ...   \n",
       "609  LP002978  Female      No          0      Graduate            No   \n",
       "610  LP002979    Male     Yes         3+      Graduate            No   \n",
       "611  LP002983    Male     Yes          1      Graduate            No   \n",
       "612  LP002984    Male     Yes          2      Graduate            No   \n",
       "613  LP002990  Female      No          0      Graduate           Yes   \n",
       "\n",
       "     ApplicantIncome  CoapplicantIncome  LoanAmount  Loan_Amount_Term  \\\n",
       "0               5849                0.0  146.412162             360.0   \n",
       "1               4583             1508.0  128.000000             360.0   \n",
       "2               3000                0.0   66.000000             360.0   \n",
       "3               2583             2358.0  120.000000             360.0   \n",
       "4               6000                0.0  141.000000             360.0   \n",
       "..               ...                ...         ...               ...   \n",
       "609             2900                0.0   71.000000             360.0   \n",
       "610             4106                0.0   40.000000             180.0   \n",
       "611             8072              240.0  253.000000             360.0   \n",
       "612             7583                0.0  187.000000             360.0   \n",
       "613             4583                0.0  133.000000             360.0   \n",
       "\n",
       "     Credit_History Property_Area Loan_Status  \n",
       "0               1.0         Urban           Y  \n",
       "1               1.0         Rural           N  \n",
       "2               1.0         Urban           Y  \n",
       "3               1.0         Urban           Y  \n",
       "4               1.0         Urban           Y  \n",
       "..              ...           ...         ...  \n",
       "609             1.0         Rural           Y  \n",
       "610             1.0         Rural           Y  \n",
       "611             1.0         Urban           Y  \n",
       "612             1.0         Urban           Y  \n",
       "613             0.0     Semiurban           N  \n",
       "\n",
       "[577 rows x 13 columns]"
      ]
     },
     "execution_count": 49,
     "metadata": {},
     "output_type": "execute_result"
    }
   ],
   "source": [
    "df1 = df[(z<3).all(axis=1)] \n",
    "df1"
   ]
  },
  {
   "cell_type": "code",
   "execution_count": 50,
   "id": "e75e2441",
   "metadata": {},
   "outputs": [
    {
     "data": {
      "text/plain": [
       "(614, 13)"
      ]
     },
     "execution_count": 50,
     "metadata": {},
     "output_type": "execute_result"
    }
   ],
   "source": [
    "df.shape"
   ]
  },
  {
   "cell_type": "code",
   "execution_count": 51,
   "id": "03eb3341",
   "metadata": {},
   "outputs": [
    {
     "data": {
      "text/plain": [
       "(577, 13)"
      ]
     },
     "execution_count": 51,
     "metadata": {},
     "output_type": "execute_result"
    }
   ],
   "source": [
    "df1.shape"
   ]
  },
  {
   "cell_type": "code",
   "execution_count": 52,
   "id": "0c41f9ae",
   "metadata": {},
   "outputs": [
    {
     "data": {
      "text/plain": [
       "6.026058631921824"
      ]
     },
     "execution_count": 52,
     "metadata": {},
     "output_type": "execute_result"
    }
   ],
   "source": [
    "Data_loss=((614-577)/614)*100\n",
    "Data_loss"
   ]
  },
  {
   "cell_type": "code",
   "execution_count": 53,
   "id": "cd023598",
   "metadata": {},
   "outputs": [
    {
     "data": {
      "text/plain": [
       "['Loan_ID',\n",
       " 'Gender',\n",
       " 'Married',\n",
       " 'Dependents',\n",
       " 'Education',\n",
       " 'Self_Employed',\n",
       " 'Property_Area',\n",
       " 'Loan_Status']"
      ]
     },
     "execution_count": 53,
     "metadata": {},
     "output_type": "execute_result"
    }
   ],
   "source": [
    "df_cc"
   ]
  },
  {
   "cell_type": "code",
   "execution_count": 54,
   "id": "1d2815fc",
   "metadata": {},
   "outputs": [
    {
     "data": {
      "text/html": [
       "<div>\n",
       "<style scoped>\n",
       "    .dataframe tbody tr th:only-of-type {\n",
       "        vertical-align: middle;\n",
       "    }\n",
       "\n",
       "    .dataframe tbody tr th {\n",
       "        vertical-align: top;\n",
       "    }\n",
       "\n",
       "    .dataframe thead th {\n",
       "        text-align: right;\n",
       "    }\n",
       "</style>\n",
       "<table border=\"1\" class=\"dataframe\">\n",
       "  <thead>\n",
       "    <tr style=\"text-align: right;\">\n",
       "      <th></th>\n",
       "      <th>Loan_ID</th>\n",
       "      <th>Gender</th>\n",
       "      <th>Married</th>\n",
       "      <th>Dependents</th>\n",
       "      <th>Education</th>\n",
       "      <th>Self_Employed</th>\n",
       "      <th>Property_Area</th>\n",
       "      <th>Loan_Status</th>\n",
       "    </tr>\n",
       "  </thead>\n",
       "  <tbody>\n",
       "    <tr>\n",
       "      <th>0</th>\n",
       "      <td>0</td>\n",
       "      <td>1</td>\n",
       "      <td>0</td>\n",
       "      <td>0</td>\n",
       "      <td>0</td>\n",
       "      <td>0</td>\n",
       "      <td>2</td>\n",
       "      <td>1</td>\n",
       "    </tr>\n",
       "    <tr>\n",
       "      <th>1</th>\n",
       "      <td>1</td>\n",
       "      <td>1</td>\n",
       "      <td>1</td>\n",
       "      <td>1</td>\n",
       "      <td>0</td>\n",
       "      <td>0</td>\n",
       "      <td>0</td>\n",
       "      <td>0</td>\n",
       "    </tr>\n",
       "    <tr>\n",
       "      <th>2</th>\n",
       "      <td>2</td>\n",
       "      <td>1</td>\n",
       "      <td>1</td>\n",
       "      <td>0</td>\n",
       "      <td>0</td>\n",
       "      <td>1</td>\n",
       "      <td>2</td>\n",
       "      <td>1</td>\n",
       "    </tr>\n",
       "    <tr>\n",
       "      <th>3</th>\n",
       "      <td>3</td>\n",
       "      <td>1</td>\n",
       "      <td>1</td>\n",
       "      <td>0</td>\n",
       "      <td>1</td>\n",
       "      <td>0</td>\n",
       "      <td>2</td>\n",
       "      <td>1</td>\n",
       "    </tr>\n",
       "    <tr>\n",
       "      <th>4</th>\n",
       "      <td>4</td>\n",
       "      <td>1</td>\n",
       "      <td>0</td>\n",
       "      <td>0</td>\n",
       "      <td>0</td>\n",
       "      <td>0</td>\n",
       "      <td>2</td>\n",
       "      <td>1</td>\n",
       "    </tr>\n",
       "    <tr>\n",
       "      <th>...</th>\n",
       "      <td>...</td>\n",
       "      <td>...</td>\n",
       "      <td>...</td>\n",
       "      <td>...</td>\n",
       "      <td>...</td>\n",
       "      <td>...</td>\n",
       "      <td>...</td>\n",
       "      <td>...</td>\n",
       "    </tr>\n",
       "    <tr>\n",
       "      <th>609</th>\n",
       "      <td>572</td>\n",
       "      <td>0</td>\n",
       "      <td>0</td>\n",
       "      <td>0</td>\n",
       "      <td>0</td>\n",
       "      <td>0</td>\n",
       "      <td>0</td>\n",
       "      <td>1</td>\n",
       "    </tr>\n",
       "    <tr>\n",
       "      <th>610</th>\n",
       "      <td>573</td>\n",
       "      <td>1</td>\n",
       "      <td>1</td>\n",
       "      <td>3</td>\n",
       "      <td>0</td>\n",
       "      <td>0</td>\n",
       "      <td>0</td>\n",
       "      <td>1</td>\n",
       "    </tr>\n",
       "    <tr>\n",
       "      <th>611</th>\n",
       "      <td>574</td>\n",
       "      <td>1</td>\n",
       "      <td>1</td>\n",
       "      <td>1</td>\n",
       "      <td>0</td>\n",
       "      <td>0</td>\n",
       "      <td>2</td>\n",
       "      <td>1</td>\n",
       "    </tr>\n",
       "    <tr>\n",
       "      <th>612</th>\n",
       "      <td>575</td>\n",
       "      <td>1</td>\n",
       "      <td>1</td>\n",
       "      <td>2</td>\n",
       "      <td>0</td>\n",
       "      <td>0</td>\n",
       "      <td>2</td>\n",
       "      <td>1</td>\n",
       "    </tr>\n",
       "    <tr>\n",
       "      <th>613</th>\n",
       "      <td>576</td>\n",
       "      <td>0</td>\n",
       "      <td>0</td>\n",
       "      <td>0</td>\n",
       "      <td>0</td>\n",
       "      <td>1</td>\n",
       "      <td>1</td>\n",
       "      <td>0</td>\n",
       "    </tr>\n",
       "  </tbody>\n",
       "</table>\n",
       "<p>577 rows × 8 columns</p>\n",
       "</div>"
      ],
      "text/plain": [
       "     Loan_ID  Gender  Married  Dependents  Education  Self_Employed  \\\n",
       "0          0       1        0           0          0              0   \n",
       "1          1       1        1           1          0              0   \n",
       "2          2       1        1           0          0              1   \n",
       "3          3       1        1           0          1              0   \n",
       "4          4       1        0           0          0              0   \n",
       "..       ...     ...      ...         ...        ...            ...   \n",
       "609      572       0        0           0          0              0   \n",
       "610      573       1        1           3          0              0   \n",
       "611      574       1        1           1          0              0   \n",
       "612      575       1        1           2          0              0   \n",
       "613      576       0        0           0          0              1   \n",
       "\n",
       "     Property_Area  Loan_Status  \n",
       "0                2            1  \n",
       "1                0            0  \n",
       "2                2            1  \n",
       "3                2            1  \n",
       "4                2            1  \n",
       "..             ...          ...  \n",
       "609              0            1  \n",
       "610              0            1  \n",
       "611              2            1  \n",
       "612              2            1  \n",
       "613              1            0  \n",
       "\n",
       "[577 rows x 8 columns]"
      ]
     },
     "execution_count": 54,
     "metadata": {},
     "output_type": "execute_result"
    }
   ],
   "source": [
    "le=LabelEncoder()\n",
    "df1[df_cc]= df1[df_cc].apply(le.fit_transform)\n",
    "df1[df_cc]"
   ]
  },
  {
   "cell_type": "code",
   "execution_count": 55,
   "id": "e9e71e0f",
   "metadata": {},
   "outputs": [
    {
     "data": {
      "image/png": "[encoded data removed]",
      "text/plain": [
       "<Figure size 1440x1080 with 5 Axes>"
      ]
     },
     "metadata": {},
     "output_type": "display_data"
    }
   ],
   "source": [
    "plt.figure(figsize=(20,15),facecolor='yellow')\n",
    "plotnumber = 1\n",
    "\n",
    "for column in df_nc:\n",
    "    if plotnumber<=5:\n",
    "        ax = plt.subplot(2,5,plotnumber)\n",
    "        sns.distplot(df[column])\n",
    "        plt.xlabel(column, fontsize = 15)\n",
    "    \n",
    "    plotnumber+=1\n",
    "plt.tight_layout()"
   ]
  },
  {
   "cell_type": "code",
   "execution_count": 56,
   "id": "f80fd6d0",
   "metadata": {},
   "outputs": [
    {
     "data": {
      "text/plain": [
       "Loan_ID              0.000000\n",
       "Gender              -1.622920\n",
       "Married             -0.630211\n",
       "Dependents           1.052106\n",
       "Education            1.306588\n",
       "Self_Employed        2.252848\n",
       "ApplicantIncome      2.148522\n",
       "CoapplicantIncome    1.350517\n",
       "LoanAmount           1.113132\n",
       "Loan_Amount_Term    -2.077031\n",
       "Credit_History      -1.921860\n",
       "Property_Area       -0.055332\n",
       "Loan_Status         -0.822635\n",
       "dtype: float64"
      ]
     },
     "execution_count": 56,
     "metadata": {},
     "output_type": "execute_result"
    }
   ],
   "source": [
    "df1.skew()"
   ]
  },
  {
   "cell_type": "code",
   "execution_count": 57,
   "id": "9507b31c",
   "metadata": {},
   "outputs": [
    {
     "data": {
      "text/plain": [
       "Self_Employed        2.252848\n",
       "ApplicantIncome      2.148522\n",
       "CoapplicantIncome    1.350517\n",
       "Education            1.306588\n",
       "LoanAmount           1.113132\n",
       "Dependents           1.052106\n",
       "Loan_ID              0.000000\n",
       "Property_Area       -0.055332\n",
       "Married             -0.630211\n",
       "Loan_Status         -0.822635\n",
       "Gender              -1.622920\n",
       "Credit_History      -1.921860\n",
       "Loan_Amount_Term    -2.077031\n",
       "dtype: float64"
      ]
     },
     "execution_count": 57,
     "metadata": {},
     "output_type": "execute_result"
    }
   ],
   "source": [
    "df1.skew().sort_values(ascending=False)"
   ]
  },
  {
   "cell_type": "code",
   "execution_count": 58,
   "id": "73c5669d",
   "metadata": {},
   "outputs": [],
   "source": [
    "df_nc_scaler = power_transform(df1)"
   ]
  },
  {
   "cell_type": "code",
   "execution_count": 59,
   "id": "e604deca",
   "metadata": {},
   "outputs": [
    {
     "data": {
      "text/plain": [
       "array([[-2.15452588,  0.47713685, -1.36251079, ...,  0.51523634,\n",
       "         1.1948064 ,  0.67063309],\n",
       "       [-2.12846638,  0.47713685,  0.73393914, ...,  0.51523634,\n",
       "        -1.34019905, -1.49112833],\n",
       "       [-2.10609441,  0.47713685,  0.73393914, ...,  0.51523634,\n",
       "         1.1948064 ,  0.67063309],\n",
       "       ...,\n",
       "       [ 1.54503095,  0.47713685,  0.73393914, ...,  0.51523634,\n",
       "         1.1948064 ,  0.67063309],\n",
       "       [ 1.54965153,  0.47713685,  0.73393914, ...,  0.51523634,\n",
       "         1.1948064 ,  0.67063309],\n",
       "       [ 1.55426979, -2.09583477, -1.36251079, ..., -2.22500746,\n",
       "         0.01546372, -1.49112833]])"
      ]
     },
     "execution_count": 59,
     "metadata": {},
     "output_type": "execute_result"
    }
   ],
   "source": [
    "df_nc_scaler"
   ]
  },
  {
   "cell_type": "code",
   "execution_count": 60,
   "id": "7cf00484",
   "metadata": {},
   "outputs": [
    {
     "data": {
      "text/plain": [
       "Self_Employed        2.252848\n",
       "Education            1.306588\n",
       "Loan_Amount_Term     0.718470\n",
       "Dependents           0.478360\n",
       "LoanAmount           0.047692\n",
       "ApplicantIncome      0.027981\n",
       "Property_Area       -0.155094\n",
       "CoapplicantIncome   -0.191876\n",
       "Loan_ID             -0.286807\n",
       "Married             -0.630211\n",
       "Loan_Status         -0.822635\n",
       "Credit_History      -1.588827\n",
       "Gender              -1.622920\n",
       "dtype: float64"
      ]
     },
     "execution_count": 60,
     "metadata": {},
     "output_type": "execute_result"
    }
   ],
   "source": [
    "pd.DataFrame(df_nc_scaler, columns = df1.columns).skew().sort_values(ascending=False)"
   ]
  },
  {
   "cell_type": "code",
   "execution_count": 61,
   "id": "8da51013",
   "metadata": {},
   "outputs": [],
   "source": [
    "df1=pd.DataFrame(df_nc_scaler, columns=df1.columns)"
   ]
  },
  {
   "cell_type": "code",
   "execution_count": 62,
   "id": "f58ae1a2",
   "metadata": {},
   "outputs": [
    {
     "data": {
      "text/plain": [
       "Self_Employed        2.252848\n",
       "Education            1.306588\n",
       "Loan_Amount_Term     0.718470\n",
       "Dependents           0.478360\n",
       "LoanAmount           0.047692\n",
       "ApplicantIncome      0.027981\n",
       "Property_Area       -0.155094\n",
       "CoapplicantIncome   -0.191876\n",
       "Loan_ID             -0.286807\n",
       "Married             -0.630211\n",
       "Loan_Status         -0.822635\n",
       "Credit_History      -1.588827\n",
       "Gender              -1.622920\n",
       "dtype: float64"
      ]
     },
     "execution_count": 62,
     "metadata": {},
     "output_type": "execute_result"
    }
   ],
   "source": [
    "df1.skew().sort_values(ascending=False)"
   ]
  },
  {
   "cell_type": "code",
   "execution_count": 63,
   "id": "44cdb535",
   "metadata": {},
   "outputs": [
    {
     "data": {
      "text/html": [
       "<div>\n",
       "<style scoped>\n",
       "    .dataframe tbody tr th:only-of-type {\n",
       "        vertical-align: middle;\n",
       "    }\n",
       "\n",
       "    .dataframe tbody tr th {\n",
       "        vertical-align: top;\n",
       "    }\n",
       "\n",
       "    .dataframe thead th {\n",
       "        text-align: right;\n",
       "    }\n",
       "</style>\n",
       "<table border=\"1\" class=\"dataframe\">\n",
       "  <thead>\n",
       "    <tr style=\"text-align: right;\">\n",
       "      <th></th>\n",
       "      <th>ApplicantIncome</th>\n",
       "      <th>CoapplicantIncome</th>\n",
       "      <th>LoanAmount</th>\n",
       "      <th>Loan_Amount_Term</th>\n",
       "      <th>Credit_History</th>\n",
       "    </tr>\n",
       "  </thead>\n",
       "  <tbody>\n",
       "    <tr>\n",
       "      <th>0</th>\n",
       "      <td>0.693376</td>\n",
       "      <td>-1.114172</td>\n",
       "      <td>0.325460</td>\n",
       "      <td>0.154009</td>\n",
       "      <td>0.541657</td>\n",
       "    </tr>\n",
       "    <tr>\n",
       "      <th>1</th>\n",
       "      <td>0.258101</td>\n",
       "      <td>0.694668</td>\n",
       "      <td>-0.005145</td>\n",
       "      <td>0.154009</td>\n",
       "      <td>0.541657</td>\n",
       "    </tr>\n",
       "    <tr>\n",
       "      <th>2</th>\n",
       "      <td>-0.511665</td>\n",
       "      <td>-1.114172</td>\n",
       "      <td>-1.456119</td>\n",
       "      <td>0.154009</td>\n",
       "      <td>0.541657</td>\n",
       "    </tr>\n",
       "    <tr>\n",
       "      <th>3</th>\n",
       "      <td>-0.786776</td>\n",
       "      <td>0.891216</td>\n",
       "      <td>-0.159593</td>\n",
       "      <td>0.154009</td>\n",
       "      <td>0.541657</td>\n",
       "    </tr>\n",
       "    <tr>\n",
       "      <th>4</th>\n",
       "      <td>0.738669</td>\n",
       "      <td>-1.114172</td>\n",
       "      <td>0.231545</td>\n",
       "      <td>0.154009</td>\n",
       "      <td>0.541657</td>\n",
       "    </tr>\n",
       "  </tbody>\n",
       "</table>\n",
       "</div>"
      ],
      "text/plain": [
       "   ApplicantIncome  CoapplicantIncome  LoanAmount  Loan_Amount_Term  \\\n",
       "0         0.693376          -1.114172    0.325460          0.154009   \n",
       "1         0.258101           0.694668   -0.005145          0.154009   \n",
       "2        -0.511665          -1.114172   -1.456119          0.154009   \n",
       "3        -0.786776           0.891216   -0.159593          0.154009   \n",
       "4         0.738669          -1.114172    0.231545          0.154009   \n",
       "\n",
       "   Credit_History  \n",
       "0        0.541657  \n",
       "1        0.541657  \n",
       "2        0.541657  \n",
       "3        0.541657  \n",
       "4        0.541657  "
      ]
     },
     "execution_count": 63,
     "metadata": {},
     "output_type": "execute_result"
    }
   ],
   "source": [
    "scaler = PowerTransformer(method='yeo-johnson')\n",
    "df1[df_nc] = scaler.fit_transform(df1[df_nc].values)\n",
    "df1[df_nc].head()"
   ]
  },
  {
   "cell_type": "code",
   "execution_count": 64,
   "id": "f7cd5b23",
   "metadata": {},
   "outputs": [
    {
     "data": {
      "text/plain": [
       "Self_Employed        2.252848\n",
       "Education            1.306588\n",
       "Dependents           0.478360\n",
       "Loan_Amount_Term     0.390280\n",
       "LoanAmount          -0.033141\n",
       "CoapplicantIncome   -0.150023\n",
       "Property_Area       -0.155094\n",
       "ApplicantIncome     -0.246179\n",
       "Loan_ID             -0.286807\n",
       "Married             -0.630211\n",
       "Loan_Status         -0.822635\n",
       "Credit_History      -1.310557\n",
       "Gender              -1.622920\n",
       "dtype: float64"
      ]
     },
     "execution_count": 64,
     "metadata": {},
     "output_type": "execute_result"
    }
   ],
   "source": [
    "df1.skew().sort_values(ascending=False)"
   ]
  },
  {
   "cell_type": "code",
   "execution_count": 65,
   "id": "305c0411",
   "metadata": {},
   "outputs": [],
   "source": [
    "df1[['Self_Employed', 'Education', 'Married', 'Loan_Status', 'Credit_History', 'Gender']] = np.log1p(df1[['Self_Employed', 'Education', 'Married', 'Loan_Status', 'Credit_History', 'Gender']])"
   ]
  },
  {
   "cell_type": "code",
   "execution_count": 66,
   "id": "e2c6db29",
   "metadata": {},
   "outputs": [
    {
     "data": {
      "text/plain": [
       "Self_Employed        2.252848\n",
       "Education            1.306588\n",
       "Dependents           0.478360\n",
       "Loan_Amount_Term     0.390280\n",
       "Gender               0.000000\n",
       "Married              0.000000\n",
       "Credit_History       0.000000\n",
       "Loan_Status          0.000000\n",
       "LoanAmount          -0.033141\n",
       "CoapplicantIncome   -0.150023\n",
       "Property_Area       -0.155094\n",
       "ApplicantIncome     -0.246179\n",
       "Loan_ID             -0.286807\n",
       "dtype: float64"
      ]
     },
     "execution_count": 66,
     "metadata": {},
     "output_type": "execute_result"
    }
   ],
   "source": [
    "df1.skew().sort_values(ascending=False)"
   ]
  },
  {
   "cell_type": "code",
   "execution_count": 67,
   "id": "9a777dc6",
   "metadata": {},
   "outputs": [],
   "source": [
    "df1[['Self_Employed', 'Education']] = np.cbrt(df1[['Self_Employed', 'Education']])"
   ]
  },
  {
   "cell_type": "code",
   "execution_count": 68,
   "id": "74e2812a",
   "metadata": {},
   "outputs": [
    {
     "data": {
      "text/plain": [
       "Self_Employed        2.252848\n",
       "Education            1.306588\n",
       "Dependents           0.478360\n",
       "Loan_Amount_Term     0.390280\n",
       "Gender               0.000000\n",
       "Married              0.000000\n",
       "Credit_History       0.000000\n",
       "Loan_Status          0.000000\n",
       "LoanAmount          -0.033141\n",
       "CoapplicantIncome   -0.150023\n",
       "Property_Area       -0.155094\n",
       "ApplicantIncome     -0.246179\n",
       "Loan_ID             -0.286807\n",
       "dtype: float64"
      ]
     },
     "execution_count": 68,
     "metadata": {},
     "output_type": "execute_result"
    }
   ],
   "source": [
    "df1.skew().sort_values(ascending=False)"
   ]
  },
  {
   "cell_type": "code",
   "execution_count": 69,
   "id": "c0db969e",
   "metadata": {},
   "outputs": [],
   "source": [
    "df1=df1.drop(['Self_Employed', 'Education'],axis=1)"
   ]
  },
  {
   "cell_type": "code",
   "execution_count": 70,
   "id": "c19f2632",
   "metadata": {},
   "outputs": [
    {
     "data": {
      "text/html": [
       "<div>\n",
       "<style scoped>\n",
       "    .dataframe tbody tr th:only-of-type {\n",
       "        vertical-align: middle;\n",
       "    }\n",
       "\n",
       "    .dataframe tbody tr th {\n",
       "        vertical-align: top;\n",
       "    }\n",
       "\n",
       "    .dataframe thead th {\n",
       "        text-align: right;\n",
       "    }\n",
       "</style>\n",
       "<table border=\"1\" class=\"dataframe\">\n",
       "  <thead>\n",
       "    <tr style=\"text-align: right;\">\n",
       "      <th></th>\n",
       "      <th>Loan_ID</th>\n",
       "      <th>Gender</th>\n",
       "      <th>Married</th>\n",
       "      <th>Dependents</th>\n",
       "      <th>ApplicantIncome</th>\n",
       "      <th>CoapplicantIncome</th>\n",
       "      <th>LoanAmount</th>\n",
       "      <th>Loan_Amount_Term</th>\n",
       "      <th>Credit_History</th>\n",
       "      <th>Property_Area</th>\n",
       "      <th>Loan_Status</th>\n",
       "    </tr>\n",
       "  </thead>\n",
       "  <tbody>\n",
       "    <tr>\n",
       "      <th>0</th>\n",
       "      <td>-2.154526</td>\n",
       "      <td>0.390106</td>\n",
       "      <td>NaN</td>\n",
       "      <td>-0.809243</td>\n",
       "      <td>0.693376</td>\n",
       "      <td>-1.114172</td>\n",
       "      <td>0.325460</td>\n",
       "      <td>0.154009</td>\n",
       "      <td>0.432858</td>\n",
       "      <td>1.194806</td>\n",
       "      <td>0.513203</td>\n",
       "    </tr>\n",
       "    <tr>\n",
       "      <th>1</th>\n",
       "      <td>-2.128466</td>\n",
       "      <td>0.390106</td>\n",
       "      <td>0.550396</td>\n",
       "      <td>0.902869</td>\n",
       "      <td>0.258101</td>\n",
       "      <td>0.694668</td>\n",
       "      <td>-0.005145</td>\n",
       "      <td>0.154009</td>\n",
       "      <td>0.432858</td>\n",
       "      <td>-1.340199</td>\n",
       "      <td>NaN</td>\n",
       "    </tr>\n",
       "    <tr>\n",
       "      <th>2</th>\n",
       "      <td>-2.106094</td>\n",
       "      <td>0.390106</td>\n",
       "      <td>0.550396</td>\n",
       "      <td>-0.809243</td>\n",
       "      <td>-0.511665</td>\n",
       "      <td>-1.114172</td>\n",
       "      <td>-1.456119</td>\n",
       "      <td>0.154009</td>\n",
       "      <td>0.432858</td>\n",
       "      <td>1.194806</td>\n",
       "      <td>0.513203</td>\n",
       "    </tr>\n",
       "    <tr>\n",
       "      <th>3</th>\n",
       "      <td>-2.085824</td>\n",
       "      <td>0.390106</td>\n",
       "      <td>0.550396</td>\n",
       "      <td>-0.809243</td>\n",
       "      <td>-0.786776</td>\n",
       "      <td>0.891216</td>\n",
       "      <td>-0.159593</td>\n",
       "      <td>0.154009</td>\n",
       "      <td>0.432858</td>\n",
       "      <td>1.194806</td>\n",
       "      <td>0.513203</td>\n",
       "    </tr>\n",
       "    <tr>\n",
       "      <th>4</th>\n",
       "      <td>-2.066986</td>\n",
       "      <td>0.390106</td>\n",
       "      <td>NaN</td>\n",
       "      <td>-0.809243</td>\n",
       "      <td>0.738669</td>\n",
       "      <td>-1.114172</td>\n",
       "      <td>0.231545</td>\n",
       "      <td>0.154009</td>\n",
       "      <td>0.432858</td>\n",
       "      <td>1.194806</td>\n",
       "      <td>0.513203</td>\n",
       "    </tr>\n",
       "    <tr>\n",
       "      <th>...</th>\n",
       "      <td>...</td>\n",
       "      <td>...</td>\n",
       "      <td>...</td>\n",
       "      <td>...</td>\n",
       "      <td>...</td>\n",
       "      <td>...</td>\n",
       "      <td>...</td>\n",
       "      <td>...</td>\n",
       "      <td>...</td>\n",
       "      <td>...</td>\n",
       "      <td>...</td>\n",
       "    </tr>\n",
       "    <tr>\n",
       "      <th>572</th>\n",
       "      <td>1.535783</td>\n",
       "      <td>NaN</td>\n",
       "      <td>NaN</td>\n",
       "      <td>-0.809243</td>\n",
       "      <td>-0.573900</td>\n",
       "      <td>-1.114172</td>\n",
       "      <td>-1.310567</td>\n",
       "      <td>0.154009</td>\n",
       "      <td>0.432858</td>\n",
       "      <td>-1.340199</td>\n",
       "      <td>0.513203</td>\n",
       "    </tr>\n",
       "    <tr>\n",
       "      <th>573</th>\n",
       "      <td>1.540408</td>\n",
       "      <td>0.390106</td>\n",
       "      <td>0.550396</td>\n",
       "      <td>1.533596</td>\n",
       "      <td>0.060349</td>\n",
       "      <td>-1.114172</td>\n",
       "      <td>-2.364634</td>\n",
       "      <td>-2.636073</td>\n",
       "      <td>0.432858</td>\n",
       "      <td>-1.340199</td>\n",
       "      <td>0.513203</td>\n",
       "    </tr>\n",
       "    <tr>\n",
       "      <th>574</th>\n",
       "      <td>1.545031</td>\n",
       "      <td>0.390106</td>\n",
       "      <td>0.550396</td>\n",
       "      <td>0.902869</td>\n",
       "      <td>1.264438</td>\n",
       "      <td>0.021145</td>\n",
       "      <td>1.814424</td>\n",
       "      <td>0.154009</td>\n",
       "      <td>0.432858</td>\n",
       "      <td>1.194806</td>\n",
       "      <td>0.513203</td>\n",
       "    </tr>\n",
       "    <tr>\n",
       "      <th>575</th>\n",
       "      <td>1.549652</td>\n",
       "      <td>0.390106</td>\n",
       "      <td>0.550396</td>\n",
       "      <td>1.344671</td>\n",
       "      <td>1.153813</td>\n",
       "      <td>-1.114172</td>\n",
       "      <td>0.961284</td>\n",
       "      <td>0.154009</td>\n",
       "      <td>0.432858</td>\n",
       "      <td>1.194806</td>\n",
       "      <td>0.513203</td>\n",
       "    </tr>\n",
       "    <tr>\n",
       "      <th>576</th>\n",
       "      <td>1.554270</td>\n",
       "      <td>NaN</td>\n",
       "      <td>NaN</td>\n",
       "      <td>-0.809243</td>\n",
       "      <td>0.258101</td>\n",
       "      <td>-1.114172</td>\n",
       "      <td>0.087862</td>\n",
       "      <td>0.154009</td>\n",
       "      <td>NaN</td>\n",
       "      <td>0.015464</td>\n",
       "      <td>NaN</td>\n",
       "    </tr>\n",
       "  </tbody>\n",
       "</table>\n",
       "<p>577 rows × 11 columns</p>\n",
       "</div>"
      ],
      "text/plain": [
       "      Loan_ID    Gender   Married  Dependents  ApplicantIncome  \\\n",
       "0   -2.154526  0.390106       NaN   -0.809243         0.693376   \n",
       "1   -2.128466  0.390106  0.550396    0.902869         0.258101   \n",
       "2   -2.106094  0.390106  0.550396   -0.809243        -0.511665   \n",
       "3   -2.085824  0.390106  0.550396   -0.809243        -0.786776   \n",
       "4   -2.066986  0.390106       NaN   -0.809243         0.738669   \n",
       "..        ...       ...       ...         ...              ...   \n",
       "572  1.535783       NaN       NaN   -0.809243        -0.573900   \n",
       "573  1.540408  0.390106  0.550396    1.533596         0.060349   \n",
       "574  1.545031  0.390106  0.550396    0.902869         1.264438   \n",
       "575  1.549652  0.390106  0.550396    1.344671         1.153813   \n",
       "576  1.554270       NaN       NaN   -0.809243         0.258101   \n",
       "\n",
       "     CoapplicantIncome  LoanAmount  Loan_Amount_Term  Credit_History  \\\n",
       "0            -1.114172    0.325460          0.154009        0.432858   \n",
       "1             0.694668   -0.005145          0.154009        0.432858   \n",
       "2            -1.114172   -1.456119          0.154009        0.432858   \n",
       "3             0.891216   -0.159593          0.154009        0.432858   \n",
       "4            -1.114172    0.231545          0.154009        0.432858   \n",
       "..                 ...         ...               ...             ...   \n",
       "572          -1.114172   -1.310567          0.154009        0.432858   \n",
       "573          -1.114172   -2.364634         -2.636073        0.432858   \n",
       "574           0.021145    1.814424          0.154009        0.432858   \n",
       "575          -1.114172    0.961284          0.154009        0.432858   \n",
       "576          -1.114172    0.087862          0.154009             NaN   \n",
       "\n",
       "     Property_Area  Loan_Status  \n",
       "0         1.194806     0.513203  \n",
       "1        -1.340199          NaN  \n",
       "2         1.194806     0.513203  \n",
       "3         1.194806     0.513203  \n",
       "4         1.194806     0.513203  \n",
       "..             ...          ...  \n",
       "572      -1.340199     0.513203  \n",
       "573      -1.340199     0.513203  \n",
       "574       1.194806     0.513203  \n",
       "575       1.194806     0.513203  \n",
       "576       0.015464          NaN  \n",
       "\n",
       "[577 rows x 11 columns]"
      ]
     },
     "execution_count": 70,
     "metadata": {},
     "output_type": "execute_result"
    }
   ],
   "source": [
    "df1"
   ]
  },
  {
   "cell_type": "code",
   "execution_count": 71,
   "id": "a5b63353",
   "metadata": {},
   "outputs": [
    {
     "name": "stdout",
     "output_type": "stream",
     "text": [
      "['Loan_ID', 'Gender', 'Married', 'Dependents', 'ApplicantIncome', 'CoapplicantIncome', 'LoanAmount', 'Loan_Amount_Term', 'Credit_History', 'Property_Area', 'Loan_Status']\n"
     ]
    }
   ],
   "source": [
    "df_nc=[]\n",
    "for i in df1.dtypes.index:\n",
    "    if df1.dtypes[i]!='object':\n",
    "        df_nc.append(i)\n",
    "print(df_nc)"
   ]
  },
  {
   "cell_type": "code",
   "execution_count": 72,
   "id": "69ca5115",
   "metadata": {},
   "outputs": [
    {
     "name": "stdout",
     "output_type": "stream",
     "text": [
      "['Loan_ID', 'Gender', 'Married', 'Dependents', 'ApplicantIncome', 'CoapplicantIncome', 'LoanAmount', 'Loan_Amount_Term', 'Credit_History', 'Property_Area', 'Loan_Status']\n"
     ]
    }
   ],
   "source": [
    "df_cc=[]\n",
    "for i in df1.dtypes.index:\n",
    "    if df1.dtypes[i]!='object':\n",
    "        df_cc.append(i)\n",
    "print(df_cc)"
   ]
  },
  {
   "cell_type": "code",
   "execution_count": 73,
   "id": "5d360fdd",
   "metadata": {},
   "outputs": [
    {
     "data": {
      "text/html": [
       "<div>\n",
       "<style scoped>\n",
       "    .dataframe tbody tr th:only-of-type {\n",
       "        vertical-align: middle;\n",
       "    }\n",
       "\n",
       "    .dataframe tbody tr th {\n",
       "        vertical-align: top;\n",
       "    }\n",
       "\n",
       "    .dataframe thead th {\n",
       "        text-align: right;\n",
       "    }\n",
       "</style>\n",
       "<table border=\"1\" class=\"dataframe\">\n",
       "  <thead>\n",
       "    <tr style=\"text-align: right;\">\n",
       "      <th></th>\n",
       "      <th>Loan_ID</th>\n",
       "      <th>Gender</th>\n",
       "      <th>Married</th>\n",
       "      <th>Dependents</th>\n",
       "      <th>ApplicantIncome</th>\n",
       "      <th>CoapplicantIncome</th>\n",
       "      <th>LoanAmount</th>\n",
       "      <th>Loan_Amount_Term</th>\n",
       "      <th>Credit_History</th>\n",
       "      <th>Property_Area</th>\n",
       "      <th>Loan_Status</th>\n",
       "    </tr>\n",
       "  </thead>\n",
       "  <tbody>\n",
       "    <tr>\n",
       "      <th>0</th>\n",
       "      <td>0</td>\n",
       "      <td>0</td>\n",
       "      <td>1</td>\n",
       "      <td>0</td>\n",
       "      <td>364</td>\n",
       "      <td>0</td>\n",
       "      <td>98</td>\n",
       "      <td>4</td>\n",
       "      <td>0</td>\n",
       "      <td>2</td>\n",
       "      <td>0</td>\n",
       "    </tr>\n",
       "    <tr>\n",
       "      <th>1</th>\n",
       "      <td>1</td>\n",
       "      <td>0</td>\n",
       "      <td>0</td>\n",
       "      <td>1</td>\n",
       "      <td>296</td>\n",
       "      <td>57</td>\n",
       "      <td>79</td>\n",
       "      <td>4</td>\n",
       "      <td>0</td>\n",
       "      <td>0</td>\n",
       "      <td>1</td>\n",
       "    </tr>\n",
       "    <tr>\n",
       "      <th>2</th>\n",
       "      <td>2</td>\n",
       "      <td>0</td>\n",
       "      <td>0</td>\n",
       "      <td>0</td>\n",
       "      <td>134</td>\n",
       "      <td>0</td>\n",
       "      <td>24</td>\n",
       "      <td>4</td>\n",
       "      <td>0</td>\n",
       "      <td>2</td>\n",
       "      <td>0</td>\n",
       "    </tr>\n",
       "    <tr>\n",
       "      <th>3</th>\n",
       "      <td>3</td>\n",
       "      <td>0</td>\n",
       "      <td>0</td>\n",
       "      <td>0</td>\n",
       "      <td>86</td>\n",
       "      <td>157</td>\n",
       "      <td>71</td>\n",
       "      <td>4</td>\n",
       "      <td>0</td>\n",
       "      <td>2</td>\n",
       "      <td>0</td>\n",
       "    </tr>\n",
       "    <tr>\n",
       "      <th>4</th>\n",
       "      <td>4</td>\n",
       "      <td>0</td>\n",
       "      <td>1</td>\n",
       "      <td>0</td>\n",
       "      <td>369</td>\n",
       "      <td>0</td>\n",
       "      <td>92</td>\n",
       "      <td>4</td>\n",
       "      <td>0</td>\n",
       "      <td>2</td>\n",
       "      <td>0</td>\n",
       "    </tr>\n",
       "    <tr>\n",
       "      <th>...</th>\n",
       "      <td>...</td>\n",
       "      <td>...</td>\n",
       "      <td>...</td>\n",
       "      <td>...</td>\n",
       "      <td>...</td>\n",
       "      <td>...</td>\n",
       "      <td>...</td>\n",
       "      <td>...</td>\n",
       "      <td>...</td>\n",
       "      <td>...</td>\n",
       "      <td>...</td>\n",
       "    </tr>\n",
       "    <tr>\n",
       "      <th>572</th>\n",
       "      <td>572</td>\n",
       "      <td>1</td>\n",
       "      <td>1</td>\n",
       "      <td>0</td>\n",
       "      <td>121</td>\n",
       "      <td>0</td>\n",
       "      <td>27</td>\n",
       "      <td>4</td>\n",
       "      <td>0</td>\n",
       "      <td>0</td>\n",
       "      <td>0</td>\n",
       "    </tr>\n",
       "    <tr>\n",
       "      <th>573</th>\n",
       "      <td>573</td>\n",
       "      <td>0</td>\n",
       "      <td>0</td>\n",
       "      <td>3</td>\n",
       "      <td>265</td>\n",
       "      <td>0</td>\n",
       "      <td>5</td>\n",
       "      <td>0</td>\n",
       "      <td>0</td>\n",
       "      <td>0</td>\n",
       "      <td>0</td>\n",
       "    </tr>\n",
       "    <tr>\n",
       "      <th>574</th>\n",
       "      <td>574</td>\n",
       "      <td>0</td>\n",
       "      <td>0</td>\n",
       "      <td>1</td>\n",
       "      <td>417</td>\n",
       "      <td>3</td>\n",
       "      <td>160</td>\n",
       "      <td>4</td>\n",
       "      <td>0</td>\n",
       "      <td>2</td>\n",
       "      <td>0</td>\n",
       "    </tr>\n",
       "    <tr>\n",
       "      <th>575</th>\n",
       "      <td>575</td>\n",
       "      <td>0</td>\n",
       "      <td>0</td>\n",
       "      <td>2</td>\n",
       "      <td>409</td>\n",
       "      <td>0</td>\n",
       "      <td>131</td>\n",
       "      <td>4</td>\n",
       "      <td>0</td>\n",
       "      <td>2</td>\n",
       "      <td>0</td>\n",
       "    </tr>\n",
       "    <tr>\n",
       "      <th>576</th>\n",
       "      <td>576</td>\n",
       "      <td>1</td>\n",
       "      <td>1</td>\n",
       "      <td>0</td>\n",
       "      <td>296</td>\n",
       "      <td>0</td>\n",
       "      <td>84</td>\n",
       "      <td>4</td>\n",
       "      <td>1</td>\n",
       "      <td>1</td>\n",
       "      <td>1</td>\n",
       "    </tr>\n",
       "  </tbody>\n",
       "</table>\n",
       "<p>577 rows × 11 columns</p>\n",
       "</div>"
      ],
      "text/plain": [
       "     Loan_ID  Gender  Married  Dependents  ApplicantIncome  CoapplicantIncome  \\\n",
       "0          0       0        1           0              364                  0   \n",
       "1          1       0        0           1              296                 57   \n",
       "2          2       0        0           0              134                  0   \n",
       "3          3       0        0           0               86                157   \n",
       "4          4       0        1           0              369                  0   \n",
       "..       ...     ...      ...         ...              ...                ...   \n",
       "572      572       1        1           0              121                  0   \n",
       "573      573       0        0           3              265                  0   \n",
       "574      574       0        0           1              417                  3   \n",
       "575      575       0        0           2              409                  0   \n",
       "576      576       1        1           0              296                  0   \n",
       "\n",
       "     LoanAmount  Loan_Amount_Term  Credit_History  Property_Area  Loan_Status  \n",
       "0            98                 4               0              2            0  \n",
       "1            79                 4               0              0            1  \n",
       "2            24                 4               0              2            0  \n",
       "3            71                 4               0              2            0  \n",
       "4            92                 4               0              2            0  \n",
       "..          ...               ...             ...            ...          ...  \n",
       "572          27                 4               0              0            0  \n",
       "573           5                 0               0              0            0  \n",
       "574         160                 4               0              2            0  \n",
       "575         131                 4               0              2            0  \n",
       "576          84                 4               1              1            1  \n",
       "\n",
       "[577 rows x 11 columns]"
      ]
     },
     "execution_count": 73,
     "metadata": {},
     "output_type": "execute_result"
    }
   ],
   "source": [
    "le=LabelEncoder()\n",
    "df1[df_cc]= df1[df_cc].apply(le.fit_transform)\n",
    "df1[df_cc]"
   ]
  },
  {
   "cell_type": "code",
   "execution_count": 74,
   "id": "7f77d4a5",
   "metadata": {},
   "outputs": [
    {
     "data": {
      "text/html": [
       "<div>\n",
       "<style scoped>\n",
       "    .dataframe tbody tr th:only-of-type {\n",
       "        vertical-align: middle;\n",
       "    }\n",
       "\n",
       "    .dataframe tbody tr th {\n",
       "        vertical-align: top;\n",
       "    }\n",
       "\n",
       "    .dataframe thead th {\n",
       "        text-align: right;\n",
       "    }\n",
       "</style>\n",
       "<table border=\"1\" class=\"dataframe\">\n",
       "  <thead>\n",
       "    <tr style=\"text-align: right;\">\n",
       "      <th></th>\n",
       "      <th>Loan_ID</th>\n",
       "      <th>Gender</th>\n",
       "      <th>Married</th>\n",
       "      <th>Dependents</th>\n",
       "      <th>ApplicantIncome</th>\n",
       "      <th>CoapplicantIncome</th>\n",
       "      <th>LoanAmount</th>\n",
       "      <th>Loan_Amount_Term</th>\n",
       "      <th>Credit_History</th>\n",
       "      <th>Property_Area</th>\n",
       "      <th>Loan_Status</th>\n",
       "    </tr>\n",
       "  </thead>\n",
       "  <tbody>\n",
       "    <tr>\n",
       "      <th>Loan_ID</th>\n",
       "      <td>1.000000</td>\n",
       "      <td>0.011887</td>\n",
       "      <td>0.013677</td>\n",
       "      <td>0.059780</td>\n",
       "      <td>0.011655</td>\n",
       "      <td>-0.050611</td>\n",
       "      <td>0.010281</td>\n",
       "      <td>-0.013134</td>\n",
       "      <td>0.036238</td>\n",
       "      <td>-0.164261</td>\n",
       "      <td>-0.023708</td>\n",
       "    </tr>\n",
       "    <tr>\n",
       "      <th>Gender</th>\n",
       "      <td>0.011887</td>\n",
       "      <td>1.000000</td>\n",
       "      <td>0.378997</td>\n",
       "      <td>-0.188162</td>\n",
       "      <td>-0.062560</td>\n",
       "      <td>-0.186113</td>\n",
       "      <td>-0.172230</td>\n",
       "      <td>0.101667</td>\n",
       "      <td>0.028816</td>\n",
       "      <td>0.026340</td>\n",
       "      <td>0.017408</td>\n",
       "    </tr>\n",
       "    <tr>\n",
       "      <th>Married</th>\n",
       "      <td>0.013677</td>\n",
       "      <td>0.378997</td>\n",
       "      <td>1.000000</td>\n",
       "      <td>-0.329900</td>\n",
       "      <td>0.020262</td>\n",
       "      <td>-0.228018</td>\n",
       "      <td>-0.183094</td>\n",
       "      <td>0.118924</td>\n",
       "      <td>-0.016144</td>\n",
       "      <td>-0.010595</td>\n",
       "      <td>0.089026</td>\n",
       "    </tr>\n",
       "    <tr>\n",
       "      <th>Dependents</th>\n",
       "      <td>0.059780</td>\n",
       "      <td>-0.188162</td>\n",
       "      <td>-0.329900</td>\n",
       "      <td>1.000000</td>\n",
       "      <td>0.131669</td>\n",
       "      <td>-0.067397</td>\n",
       "      <td>0.127149</td>\n",
       "      <td>-0.079437</td>\n",
       "      <td>-0.000916</td>\n",
       "      <td>0.002327</td>\n",
       "      <td>-0.017872</td>\n",
       "    </tr>\n",
       "    <tr>\n",
       "      <th>ApplicantIncome</th>\n",
       "      <td>0.011655</td>\n",
       "      <td>-0.062560</td>\n",
       "      <td>0.020262</td>\n",
       "      <td>0.131669</td>\n",
       "      <td>1.000000</td>\n",
       "      <td>-0.249266</td>\n",
       "      <td>0.485273</td>\n",
       "      <td>-0.037608</td>\n",
       "      <td>-0.062374</td>\n",
       "      <td>-0.049362</td>\n",
       "      <td>0.013230</td>\n",
       "    </tr>\n",
       "    <tr>\n",
       "      <th>CoapplicantIncome</th>\n",
       "      <td>-0.050611</td>\n",
       "      <td>-0.186113</td>\n",
       "      <td>-0.228018</td>\n",
       "      <td>-0.067397</td>\n",
       "      <td>-0.249266</td>\n",
       "      <td>1.000000</td>\n",
       "      <td>0.300720</td>\n",
       "      <td>-0.048503</td>\n",
       "      <td>0.049794</td>\n",
       "      <td>-0.101921</td>\n",
       "      <td>-0.036494</td>\n",
       "    </tr>\n",
       "    <tr>\n",
       "      <th>LoanAmount</th>\n",
       "      <td>0.010281</td>\n",
       "      <td>-0.172230</td>\n",
       "      <td>-0.183094</td>\n",
       "      <td>0.127149</td>\n",
       "      <td>0.485273</td>\n",
       "      <td>0.300720</td>\n",
       "      <td>1.000000</td>\n",
       "      <td>0.060227</td>\n",
       "      <td>0.006194</td>\n",
       "      <td>-0.088029</td>\n",
       "      <td>0.032171</td>\n",
       "    </tr>\n",
       "    <tr>\n",
       "      <th>Loan_Amount_Term</th>\n",
       "      <td>-0.013134</td>\n",
       "      <td>0.101667</td>\n",
       "      <td>0.118924</td>\n",
       "      <td>-0.079437</td>\n",
       "      <td>-0.037608</td>\n",
       "      <td>-0.048503</td>\n",
       "      <td>0.060227</td>\n",
       "      <td>1.000000</td>\n",
       "      <td>-0.028546</td>\n",
       "      <td>-0.071360</td>\n",
       "      <td>-0.013465</td>\n",
       "    </tr>\n",
       "    <tr>\n",
       "      <th>Credit_History</th>\n",
       "      <td>0.036238</td>\n",
       "      <td>0.028816</td>\n",
       "      <td>-0.016144</td>\n",
       "      <td>-0.000916</td>\n",
       "      <td>-0.062374</td>\n",
       "      <td>0.049794</td>\n",
       "      <td>0.006194</td>\n",
       "      <td>-0.028546</td>\n",
       "      <td>1.000000</td>\n",
       "      <td>0.015271</td>\n",
       "      <td>0.459340</td>\n",
       "    </tr>\n",
       "    <tr>\n",
       "      <th>Property_Area</th>\n",
       "      <td>-0.164261</td>\n",
       "      <td>0.026340</td>\n",
       "      <td>-0.010595</td>\n",
       "      <td>0.002327</td>\n",
       "      <td>-0.049362</td>\n",
       "      <td>-0.101921</td>\n",
       "      <td>-0.088029</td>\n",
       "      <td>-0.071360</td>\n",
       "      <td>0.015271</td>\n",
       "      <td>1.000000</td>\n",
       "      <td>-0.026507</td>\n",
       "    </tr>\n",
       "    <tr>\n",
       "      <th>Loan_Status</th>\n",
       "      <td>-0.023708</td>\n",
       "      <td>0.017408</td>\n",
       "      <td>0.089026</td>\n",
       "      <td>-0.017872</td>\n",
       "      <td>0.013230</td>\n",
       "      <td>-0.036494</td>\n",
       "      <td>0.032171</td>\n",
       "      <td>-0.013465</td>\n",
       "      <td>0.459340</td>\n",
       "      <td>-0.026507</td>\n",
       "      <td>1.000000</td>\n",
       "    </tr>\n",
       "  </tbody>\n",
       "</table>\n",
       "</div>"
      ],
      "text/plain": [
       "                    Loan_ID    Gender   Married  Dependents  ApplicantIncome  \\\n",
       "Loan_ID            1.000000  0.011887  0.013677    0.059780         0.011655   \n",
       "Gender             0.011887  1.000000  0.378997   -0.188162        -0.062560   \n",
       "Married            0.013677  0.378997  1.000000   -0.329900         0.020262   \n",
       "Dependents         0.059780 -0.188162 -0.329900    1.000000         0.131669   \n",
       "ApplicantIncome    0.011655 -0.062560  0.020262    0.131669         1.000000   \n",
       "CoapplicantIncome -0.050611 -0.186113 -0.228018   -0.067397        -0.249266   \n",
       "LoanAmount         0.010281 -0.172230 -0.183094    0.127149         0.485273   \n",
       "Loan_Amount_Term  -0.013134  0.101667  0.118924   -0.079437        -0.037608   \n",
       "Credit_History     0.036238  0.028816 -0.016144   -0.000916        -0.062374   \n",
       "Property_Area     -0.164261  0.026340 -0.010595    0.002327        -0.049362   \n",
       "Loan_Status       -0.023708  0.017408  0.089026   -0.017872         0.013230   \n",
       "\n",
       "                   CoapplicantIncome  LoanAmount  Loan_Amount_Term  \\\n",
       "Loan_ID                    -0.050611    0.010281         -0.013134   \n",
       "Gender                     -0.186113   -0.172230          0.101667   \n",
       "Married                    -0.228018   -0.183094          0.118924   \n",
       "Dependents                 -0.067397    0.127149         -0.079437   \n",
       "ApplicantIncome            -0.249266    0.485273         -0.037608   \n",
       "CoapplicantIncome           1.000000    0.300720         -0.048503   \n",
       "LoanAmount                  0.300720    1.000000          0.060227   \n",
       "Loan_Amount_Term           -0.048503    0.060227          1.000000   \n",
       "Credit_History              0.049794    0.006194         -0.028546   \n",
       "Property_Area              -0.101921   -0.088029         -0.071360   \n",
       "Loan_Status                -0.036494    0.032171         -0.013465   \n",
       "\n",
       "                   Credit_History  Property_Area  Loan_Status  \n",
       "Loan_ID                  0.036238      -0.164261    -0.023708  \n",
       "Gender                   0.028816       0.026340     0.017408  \n",
       "Married                 -0.016144      -0.010595     0.089026  \n",
       "Dependents              -0.000916       0.002327    -0.017872  \n",
       "ApplicantIncome         -0.062374      -0.049362     0.013230  \n",
       "CoapplicantIncome        0.049794      -0.101921    -0.036494  \n",
       "LoanAmount               0.006194      -0.088029     0.032171  \n",
       "Loan_Amount_Term        -0.028546      -0.071360    -0.013465  \n",
       "Credit_History           1.000000       0.015271     0.459340  \n",
       "Property_Area            0.015271       1.000000    -0.026507  \n",
       "Loan_Status              0.459340      -0.026507     1.000000  "
      ]
     },
     "execution_count": 74,
     "metadata": {},
     "output_type": "execute_result"
    }
   ],
   "source": [
    "corr = df1.corr()\n",
    "corr"
   ]
  },
  {
   "cell_type": "code",
   "execution_count": 75,
   "id": "be4c8618",
   "metadata": {},
   "outputs": [
    {
     "data": {
      "text/plain": [
       "(array([ 0.5,  1.5,  2.5,  3.5,  4.5,  5.5,  6.5,  7.5,  8.5,  9.5, 10.5]),\n",
       " [Text(0, 0.5, 'Loan_ID'),\n",
       "  Text(0, 1.5, 'Gender'),\n",
       "  Text(0, 2.5, 'Married'),\n",
       "  Text(0, 3.5, 'Dependents'),\n",
       "  Text(0, 4.5, 'ApplicantIncome'),\n",
       "  Text(0, 5.5, 'CoapplicantIncome'),\n",
       "  Text(0, 6.5, 'LoanAmount'),\n",
       "  Text(0, 7.5, 'Loan_Amount_Term'),\n",
       "  Text(0, 8.5, 'Credit_History'),\n",
       "  Text(0, 9.5, 'Property_Area'),\n",
       "  Text(0, 10.5, 'Loan_Status')])"
      ]
     },
     "execution_count": 75,
     "metadata": {},
     "output_type": "execute_result"
    },
    {
     "data": {
      "image/png": "[encoded data removed]",
      "text/plain": [
       "<Figure size 1800x1584 with 2 Axes>"
      ]
     },
     "metadata": {
      "needs_background": "light"
     },
     "output_type": "display_data"
    }
   ],
   "source": [
    "plt.figure(figsize=(25,22))\n",
    "sns.heatmap(df1.corr(),linewidths=.1,vmin=-1, vmax=1, fmt='.2g', annot = True, linecolor=\"black\",annot_kws={'size':15},cmap=\"Set1\")\n",
    "plt.yticks(rotation=45)"
   ]
  },
  {
   "cell_type": "code",
   "execution_count": 76,
   "id": "1d0d62cf",
   "metadata": {},
   "outputs": [
    {
     "data": {
      "image/png": "[encoded data removed]",
      "text/plain": [
       "<Figure size 1584x504 with 1 Axes>"
      ]
     },
     "metadata": {
      "needs_background": "light"
     },
     "output_type": "display_data"
    }
   ],
   "source": [
    "plt.figure(figsize=(22,7))\n",
    "df1.corr()['Loan_Status'].sort_values(ascending=False).drop(['Loan_Status']).plot(kind='bar',color='blue')\n",
    "plt.xlabel('Feature',fontsize=14)\n",
    "plt.ylabel('Target',fontsize=14)\n",
    "plt.title('correlation between target and feature using bar plot',fontsize=18)\n",
    "plt.show()"
   ]
  },
  {
   "cell_type": "code",
   "execution_count": 77,
   "id": "6104b6fa",
   "metadata": {},
   "outputs": [],
   "source": [
    "x = df1.drop(\"Loan_Status\", axis=1)\n",
    "y = df1[\"Loan_Status\"]"
   ]
  },
  {
   "cell_type": "code",
   "execution_count": 78,
   "id": "b8e657ba",
   "metadata": {},
   "outputs": [
    {
     "data": {
      "text/html": [
       "<div>\n",
       "<style scoped>\n",
       "    .dataframe tbody tr th:only-of-type {\n",
       "        vertical-align: middle;\n",
       "    }\n",
       "\n",
       "    .dataframe tbody tr th {\n",
       "        vertical-align: top;\n",
       "    }\n",
       "\n",
       "    .dataframe thead th {\n",
       "        text-align: right;\n",
       "    }\n",
       "</style>\n",
       "<table border=\"1\" class=\"dataframe\">\n",
       "  <thead>\n",
       "    <tr style=\"text-align: right;\">\n",
       "      <th></th>\n",
       "      <th>Loan_ID</th>\n",
       "      <th>Gender</th>\n",
       "      <th>Married</th>\n",
       "      <th>Dependents</th>\n",
       "      <th>ApplicantIncome</th>\n",
       "      <th>CoapplicantIncome</th>\n",
       "      <th>LoanAmount</th>\n",
       "      <th>Loan_Amount_Term</th>\n",
       "      <th>Credit_History</th>\n",
       "      <th>Property_Area</th>\n",
       "    </tr>\n",
       "  </thead>\n",
       "  <tbody>\n",
       "    <tr>\n",
       "      <th>0</th>\n",
       "      <td>-1.729052</td>\n",
       "      <td>-0.477137</td>\n",
       "      <td>1.362511</td>\n",
       "      <td>-0.723313</td>\n",
       "      <td>0.978084</td>\n",
       "      <td>-0.862173</td>\n",
       "      <td>0.371846</td>\n",
       "      <td>0.314995</td>\n",
       "      <td>-0.541961</td>\n",
       "      <td>1.227472</td>\n",
       "    </tr>\n",
       "    <tr>\n",
       "      <th>1</th>\n",
       "      <td>-1.723048</td>\n",
       "      <td>-0.477137</td>\n",
       "      <td>-0.733939</td>\n",
       "      <td>0.282353</td>\n",
       "      <td>0.473865</td>\n",
       "      <td>-0.216133</td>\n",
       "      <td>-0.084450</td>\n",
       "      <td>0.314995</td>\n",
       "      <td>-0.541961</td>\n",
       "      <td>-1.306522</td>\n",
       "    </tr>\n",
       "    <tr>\n",
       "      <th>2</th>\n",
       "      <td>-1.717044</td>\n",
       "      <td>-0.477137</td>\n",
       "      <td>-0.733939</td>\n",
       "      <td>-0.723313</td>\n",
       "      <td>-0.727363</td>\n",
       "      <td>-0.862173</td>\n",
       "      <td>-1.405307</td>\n",
       "      <td>0.314995</td>\n",
       "      <td>-0.541961</td>\n",
       "      <td>1.227472</td>\n",
       "    </tr>\n",
       "    <tr>\n",
       "      <th>3</th>\n",
       "      <td>-1.711041</td>\n",
       "      <td>-0.477137</td>\n",
       "      <td>-0.733939</td>\n",
       "      <td>-0.723313</td>\n",
       "      <td>-1.083282</td>\n",
       "      <td>0.917272</td>\n",
       "      <td>-0.276575</td>\n",
       "      <td>0.314995</td>\n",
       "      <td>-0.541961</td>\n",
       "      <td>1.227472</td>\n",
       "    </tr>\n",
       "    <tr>\n",
       "      <th>4</th>\n",
       "      <td>-1.705037</td>\n",
       "      <td>-0.477137</td>\n",
       "      <td>1.362511</td>\n",
       "      <td>-0.723313</td>\n",
       "      <td>1.015159</td>\n",
       "      <td>-0.862173</td>\n",
       "      <td>0.227753</td>\n",
       "      <td>0.314995</td>\n",
       "      <td>-0.541961</td>\n",
       "      <td>1.227472</td>\n",
       "    </tr>\n",
       "    <tr>\n",
       "      <th>...</th>\n",
       "      <td>...</td>\n",
       "      <td>...</td>\n",
       "      <td>...</td>\n",
       "      <td>...</td>\n",
       "      <td>...</td>\n",
       "      <td>...</td>\n",
       "      <td>...</td>\n",
       "      <td>...</td>\n",
       "      <td>...</td>\n",
       "      <td>...</td>\n",
       "    </tr>\n",
       "    <tr>\n",
       "      <th>572</th>\n",
       "      <td>1.705037</td>\n",
       "      <td>2.095835</td>\n",
       "      <td>1.362511</td>\n",
       "      <td>-0.723313</td>\n",
       "      <td>-0.823758</td>\n",
       "      <td>-0.862173</td>\n",
       "      <td>-1.333261</td>\n",
       "      <td>0.314995</td>\n",
       "      <td>-0.541961</td>\n",
       "      <td>-1.306522</td>\n",
       "    </tr>\n",
       "    <tr>\n",
       "      <th>573</th>\n",
       "      <td>1.711041</td>\n",
       "      <td>-0.477137</td>\n",
       "      <td>-0.733939</td>\n",
       "      <td>2.293686</td>\n",
       "      <td>0.244001</td>\n",
       "      <td>-0.862173</td>\n",
       "      <td>-1.861604</td>\n",
       "      <td>-3.320051</td>\n",
       "      <td>-0.541961</td>\n",
       "      <td>-1.306522</td>\n",
       "    </tr>\n",
       "    <tr>\n",
       "      <th>574</th>\n",
       "      <td>1.717044</td>\n",
       "      <td>-0.477137</td>\n",
       "      <td>-0.733939</td>\n",
       "      <td>0.282353</td>\n",
       "      <td>1.371079</td>\n",
       "      <td>-0.828171</td>\n",
       "      <td>1.860813</td>\n",
       "      <td>0.314995</td>\n",
       "      <td>-0.541961</td>\n",
       "      <td>1.227472</td>\n",
       "    </tr>\n",
       "    <tr>\n",
       "      <th>575</th>\n",
       "      <td>1.723048</td>\n",
       "      <td>-0.477137</td>\n",
       "      <td>-0.733939</td>\n",
       "      <td>1.288020</td>\n",
       "      <td>1.311759</td>\n",
       "      <td>-0.862173</td>\n",
       "      <td>1.164361</td>\n",
       "      <td>0.314995</td>\n",
       "      <td>-0.541961</td>\n",
       "      <td>1.227472</td>\n",
       "    </tr>\n",
       "    <tr>\n",
       "      <th>576</th>\n",
       "      <td>1.729052</td>\n",
       "      <td>2.095835</td>\n",
       "      <td>1.362511</td>\n",
       "      <td>-0.723313</td>\n",
       "      <td>0.473865</td>\n",
       "      <td>-0.862173</td>\n",
       "      <td>0.035628</td>\n",
       "      <td>0.314995</td>\n",
       "      <td>1.845150</td>\n",
       "      <td>-0.039525</td>\n",
       "    </tr>\n",
       "  </tbody>\n",
       "</table>\n",
       "<p>577 rows × 10 columns</p>\n",
       "</div>"
      ],
      "text/plain": [
       "      Loan_ID    Gender   Married  Dependents  ApplicantIncome  \\\n",
       "0   -1.729052 -0.477137  1.362511   -0.723313         0.978084   \n",
       "1   -1.723048 -0.477137 -0.733939    0.282353         0.473865   \n",
       "2   -1.717044 -0.477137 -0.733939   -0.723313        -0.727363   \n",
       "3   -1.711041 -0.477137 -0.733939   -0.723313        -1.083282   \n",
       "4   -1.705037 -0.477137  1.362511   -0.723313         1.015159   \n",
       "..        ...       ...       ...         ...              ...   \n",
       "572  1.705037  2.095835  1.362511   -0.723313        -0.823758   \n",
       "573  1.711041 -0.477137 -0.733939    2.293686         0.244001   \n",
       "574  1.717044 -0.477137 -0.733939    0.282353         1.371079   \n",
       "575  1.723048 -0.477137 -0.733939    1.288020         1.311759   \n",
       "576  1.729052  2.095835  1.362511   -0.723313         0.473865   \n",
       "\n",
       "     CoapplicantIncome  LoanAmount  Loan_Amount_Term  Credit_History  \\\n",
       "0            -0.862173    0.371846          0.314995       -0.541961   \n",
       "1            -0.216133   -0.084450          0.314995       -0.541961   \n",
       "2            -0.862173   -1.405307          0.314995       -0.541961   \n",
       "3             0.917272   -0.276575          0.314995       -0.541961   \n",
       "4            -0.862173    0.227753          0.314995       -0.541961   \n",
       "..                 ...         ...               ...             ...   \n",
       "572          -0.862173   -1.333261          0.314995       -0.541961   \n",
       "573          -0.862173   -1.861604         -3.320051       -0.541961   \n",
       "574          -0.828171    1.860813          0.314995       -0.541961   \n",
       "575          -0.862173    1.164361          0.314995       -0.541961   \n",
       "576          -0.862173    0.035628          0.314995        1.845150   \n",
       "\n",
       "     Property_Area  \n",
       "0         1.227472  \n",
       "1        -1.306522  \n",
       "2         1.227472  \n",
       "3         1.227472  \n",
       "4         1.227472  \n",
       "..             ...  \n",
       "572      -1.306522  \n",
       "573      -1.306522  \n",
       "574       1.227472  \n",
       "575       1.227472  \n",
       "576      -0.039525  \n",
       "\n",
       "[577 rows x 10 columns]"
      ]
     },
     "execution_count": 78,
     "metadata": {},
     "output_type": "execute_result"
    }
   ],
   "source": [
    "scaler = StandardScaler()\n",
    "x = pd.DataFrame(scaler.fit_transform(x), columns=x.columns)\n",
    "x"
   ]
  },
  {
   "cell_type": "code",
   "execution_count": 79,
   "id": "34e5116d",
   "metadata": {},
   "outputs": [
    {
     "data": {
      "text/plain": [
       "0    398\n",
       "1    179\n",
       "Name: Loan_Status, dtype: int64"
      ]
     },
     "execution_count": 79,
     "metadata": {},
     "output_type": "execute_result"
    }
   ],
   "source": [
    "y.value_counts()"
   ]
  },
  {
   "cell_type": "code",
   "execution_count": 80,
   "id": "f475fa06",
   "metadata": {},
   "outputs": [],
   "source": [
    "sm = SMOTE()\n",
    "x, y = sm.fit_resample(x,y)"
   ]
  },
  {
   "cell_type": "code",
   "execution_count": 81,
   "id": "2051ec80",
   "metadata": {},
   "outputs": [
    {
     "data": {
      "text/plain": [
       "0    398\n",
       "1    398\n",
       "Name: Loan_Status, dtype: int64"
      ]
     },
     "execution_count": 81,
     "metadata": {},
     "output_type": "execute_result"
    }
   ],
   "source": [
    "y.value_counts()"
   ]
  },
  {
   "cell_type": "code",
   "execution_count": 82,
   "id": "cda5594a",
   "metadata": {},
   "outputs": [
    {
     "data": {
      "text/html": [
       "<div>\n",
       "<style scoped>\n",
       "    .dataframe tbody tr th:only-of-type {\n",
       "        vertical-align: middle;\n",
       "    }\n",
       "\n",
       "    .dataframe tbody tr th {\n",
       "        vertical-align: top;\n",
       "    }\n",
       "\n",
       "    .dataframe thead th {\n",
       "        text-align: right;\n",
       "    }\n",
       "</style>\n",
       "<table border=\"1\" class=\"dataframe\">\n",
       "  <thead>\n",
       "    <tr style=\"text-align: right;\">\n",
       "      <th></th>\n",
       "      <th>VIF values</th>\n",
       "      <th>Features</th>\n",
       "    </tr>\n",
       "  </thead>\n",
       "  <tbody>\n",
       "    <tr>\n",
       "      <th>0</th>\n",
       "      <td>1.038330</td>\n",
       "      <td>Loan_ID</td>\n",
       "    </tr>\n",
       "    <tr>\n",
       "      <th>1</th>\n",
       "      <td>1.242356</td>\n",
       "      <td>Gender</td>\n",
       "    </tr>\n",
       "    <tr>\n",
       "      <th>2</th>\n",
       "      <td>1.426132</td>\n",
       "      <td>Married</td>\n",
       "    </tr>\n",
       "    <tr>\n",
       "      <th>3</th>\n",
       "      <td>1.197593</td>\n",
       "      <td>Dependents</td>\n",
       "    </tr>\n",
       "    <tr>\n",
       "      <th>4</th>\n",
       "      <td>1.734719</td>\n",
       "      <td>ApplicantIncome</td>\n",
       "    </tr>\n",
       "    <tr>\n",
       "      <th>5</th>\n",
       "      <td>1.592647</td>\n",
       "      <td>CoapplicantIncome</td>\n",
       "    </tr>\n",
       "    <tr>\n",
       "      <th>6</th>\n",
       "      <td>1.855971</td>\n",
       "      <td>LoanAmount</td>\n",
       "    </tr>\n",
       "    <tr>\n",
       "      <th>7</th>\n",
       "      <td>1.086497</td>\n",
       "      <td>Loan_Amount_Term</td>\n",
       "    </tr>\n",
       "    <tr>\n",
       "      <th>8</th>\n",
       "      <td>1.012756</td>\n",
       "      <td>Credit_History</td>\n",
       "    </tr>\n",
       "    <tr>\n",
       "      <th>9</th>\n",
       "      <td>1.061982</td>\n",
       "      <td>Property_Area</td>\n",
       "    </tr>\n",
       "  </tbody>\n",
       "</table>\n",
       "</div>"
      ],
      "text/plain": [
       "   VIF values           Features\n",
       "0    1.038330            Loan_ID\n",
       "1    1.242356             Gender\n",
       "2    1.426132            Married\n",
       "3    1.197593         Dependents\n",
       "4    1.734719    ApplicantIncome\n",
       "5    1.592647  CoapplicantIncome\n",
       "6    1.855971         LoanAmount\n",
       "7    1.086497   Loan_Amount_Term\n",
       "8    1.012756     Credit_History\n",
       "9    1.061982      Property_Area"
      ]
     },
     "execution_count": 82,
     "metadata": {},
     "output_type": "execute_result"
    }
   ],
   "source": [
    "vif = pd.DataFrame()\n",
    "vif[\"VIF values\"] = [variance_inflation_factor(x.values,i)\n",
    "              for i in range(len(x.columns))]\n",
    "vif[\"Features\"] = x.columns\n",
    "vif"
   ]
  },
  {
   "cell_type": "code",
   "execution_count": 83,
   "id": "3660aa9d",
   "metadata": {},
   "outputs": [
    {
     "name": "stdout",
     "output_type": "stream",
     "text": [
      "Best Accuracy is : 0 on random_state: 599\n"
     ]
    }
   ],
   "source": [
    "maxAcc=0\n",
    "maxRS=0\n",
    "for i in range(0,600):\n",
    "    x_train,x_test,y_train,y_test=train_test_split(x,y,test_size=0.28,random_state=i)\n",
    "    lr=LogisticRegression()\n",
    "    lr.fit(x_train,y_train)\n",
    "    lrpred=lr.predict(x_test)\n",
    "    acc=accuracy_score(y_test,lrpred)\n",
    "    if acc>maxAcc:\n",
    "        macAcc=acc\n",
    "        maxRS=i\n",
    "print(\"Best Accuracy is :\",maxAcc,\"on random_state:\",maxRS)  "
   ]
  },
  {
   "cell_type": "code",
   "execution_count": 84,
   "id": "62d17feb",
   "metadata": {},
   "outputs": [],
   "source": [
    "x_train,x_test,y_train,y_test=train_test_split(x,y,test_size=0.3,random_state=599)"
   ]
  },
  {
   "cell_type": "code",
   "execution_count": 85,
   "id": "9c25de06",
   "metadata": {},
   "outputs": [
    {
     "data": {
      "text/html": [
       "<div>\n",
       "<style scoped>\n",
       "    .dataframe tbody tr th:only-of-type {\n",
       "        vertical-align: middle;\n",
       "    }\n",
       "\n",
       "    .dataframe tbody tr th {\n",
       "        vertical-align: top;\n",
       "    }\n",
       "\n",
       "    .dataframe thead th {\n",
       "        text-align: right;\n",
       "    }\n",
       "</style>\n",
       "<table border=\"1\" class=\"dataframe\">\n",
       "  <thead>\n",
       "    <tr style=\"text-align: right;\">\n",
       "      <th></th>\n",
       "      <th>Loan_ID</th>\n",
       "      <th>Gender</th>\n",
       "      <th>Married</th>\n",
       "      <th>Dependents</th>\n",
       "      <th>ApplicantIncome</th>\n",
       "      <th>CoapplicantIncome</th>\n",
       "      <th>LoanAmount</th>\n",
       "      <th>Loan_Amount_Term</th>\n",
       "      <th>Credit_History</th>\n",
       "      <th>Property_Area</th>\n",
       "    </tr>\n",
       "  </thead>\n",
       "  <tbody>\n",
       "    <tr>\n",
       "      <th>707</th>\n",
       "      <td>0.468186</td>\n",
       "      <td>2.095835</td>\n",
       "      <td>1.362511</td>\n",
       "      <td>0.468219</td>\n",
       "      <td>-0.931972</td>\n",
       "      <td>-0.862173</td>\n",
       "      <td>0.586401</td>\n",
       "      <td>0.314995</td>\n",
       "      <td>-0.541961</td>\n",
       "      <td>1.227472</td>\n",
       "    </tr>\n",
       "    <tr>\n",
       "      <th>330</th>\n",
       "      <td>0.252153</td>\n",
       "      <td>-0.477137</td>\n",
       "      <td>-0.733939</td>\n",
       "      <td>-0.723313</td>\n",
       "      <td>1.133799</td>\n",
       "      <td>1.948670</td>\n",
       "      <td>1.932859</td>\n",
       "      <td>0.314995</td>\n",
       "      <td>1.845150</td>\n",
       "      <td>-0.039525</td>\n",
       "    </tr>\n",
       "    <tr>\n",
       "      <th>745</th>\n",
       "      <td>-1.179192</td>\n",
       "      <td>-0.477137</td>\n",
       "      <td>1.362511</td>\n",
       "      <td>-0.723313</td>\n",
       "      <td>-0.239252</td>\n",
       "      <td>0.992078</td>\n",
       "      <td>-0.156143</td>\n",
       "      <td>-3.320051</td>\n",
       "      <td>1.453159</td>\n",
       "      <td>1.227472</td>\n",
       "    </tr>\n",
       "    <tr>\n",
       "      <th>258</th>\n",
       "      <td>-0.180110</td>\n",
       "      <td>-0.477137</td>\n",
       "      <td>1.362511</td>\n",
       "      <td>-0.723313</td>\n",
       "      <td>-0.883077</td>\n",
       "      <td>0.271231</td>\n",
       "      <td>-0.132481</td>\n",
       "      <td>0.314995</td>\n",
       "      <td>-0.541961</td>\n",
       "      <td>-1.306522</td>\n",
       "    </tr>\n",
       "    <tr>\n",
       "      <th>156</th>\n",
       "      <td>-0.792482</td>\n",
       "      <td>-0.477137</td>\n",
       "      <td>-0.733939</td>\n",
       "      <td>-0.723313</td>\n",
       "      <td>1.467474</td>\n",
       "      <td>-0.862173</td>\n",
       "      <td>-1.237198</td>\n",
       "      <td>-3.320051</td>\n",
       "      <td>-0.541961</td>\n",
       "      <td>1.227472</td>\n",
       "    </tr>\n",
       "    <tr>\n",
       "      <th>...</th>\n",
       "      <td>...</td>\n",
       "      <td>...</td>\n",
       "      <td>...</td>\n",
       "      <td>...</td>\n",
       "      <td>...</td>\n",
       "      <td>...</td>\n",
       "      <td>...</td>\n",
       "      <td>...</td>\n",
       "      <td>...</td>\n",
       "      <td>...</td>\n",
       "    </tr>\n",
       "    <tr>\n",
       "      <th>765</th>\n",
       "      <td>0.563761</td>\n",
       "      <td>-0.477137</td>\n",
       "      <td>-0.733939</td>\n",
       "      <td>1.288020</td>\n",
       "      <td>0.232490</td>\n",
       "      <td>-0.719552</td>\n",
       "      <td>-0.544897</td>\n",
       "      <td>0.314995</td>\n",
       "      <td>-0.541961</td>\n",
       "      <td>1.227472</td>\n",
       "    </tr>\n",
       "    <tr>\n",
       "      <th>314</th>\n",
       "      <td>0.156095</td>\n",
       "      <td>-0.477137</td>\n",
       "      <td>1.362511</td>\n",
       "      <td>-0.723313</td>\n",
       "      <td>-0.786683</td>\n",
       "      <td>-0.862173</td>\n",
       "      <td>-0.804918</td>\n",
       "      <td>0.314995</td>\n",
       "      <td>-0.541961</td>\n",
       "      <td>-0.039525</td>\n",
       "    </tr>\n",
       "    <tr>\n",
       "      <th>682</th>\n",
       "      <td>1.049697</td>\n",
       "      <td>-0.477137</td>\n",
       "      <td>-0.733939</td>\n",
       "      <td>-0.723313</td>\n",
       "      <td>-1.007645</td>\n",
       "      <td>1.087899</td>\n",
       "      <td>0.785976</td>\n",
       "      <td>0.314995</td>\n",
       "      <td>1.845150</td>\n",
       "      <td>1.227472</td>\n",
       "    </tr>\n",
       "    <tr>\n",
       "      <th>93</th>\n",
       "      <td>-1.170712</td>\n",
       "      <td>-0.477137</td>\n",
       "      <td>-0.733939</td>\n",
       "      <td>-0.723313</td>\n",
       "      <td>-1.498521</td>\n",
       "      <td>-0.658160</td>\n",
       "      <td>-1.693494</td>\n",
       "      <td>0.314995</td>\n",
       "      <td>-0.541961</td>\n",
       "      <td>-0.039525</td>\n",
       "    </tr>\n",
       "    <tr>\n",
       "      <th>241</th>\n",
       "      <td>-0.282172</td>\n",
       "      <td>-0.477137</td>\n",
       "      <td>1.362511</td>\n",
       "      <td>-0.723313</td>\n",
       "      <td>1.734413</td>\n",
       "      <td>-0.862173</td>\n",
       "      <td>1.260423</td>\n",
       "      <td>0.314995</td>\n",
       "      <td>1.845150</td>\n",
       "      <td>1.227472</td>\n",
       "    </tr>\n",
       "  </tbody>\n",
       "</table>\n",
       "<p>557 rows × 10 columns</p>\n",
       "</div>"
      ],
      "text/plain": [
       "      Loan_ID    Gender   Married  Dependents  ApplicantIncome  \\\n",
       "707  0.468186  2.095835  1.362511    0.468219        -0.931972   \n",
       "330  0.252153 -0.477137 -0.733939   -0.723313         1.133799   \n",
       "745 -1.179192 -0.477137  1.362511   -0.723313        -0.239252   \n",
       "258 -0.180110 -0.477137  1.362511   -0.723313        -0.883077   \n",
       "156 -0.792482 -0.477137 -0.733939   -0.723313         1.467474   \n",
       "..        ...       ...       ...         ...              ...   \n",
       "765  0.563761 -0.477137 -0.733939    1.288020         0.232490   \n",
       "314  0.156095 -0.477137  1.362511   -0.723313        -0.786683   \n",
       "682  1.049697 -0.477137 -0.733939   -0.723313        -1.007645   \n",
       "93  -1.170712 -0.477137 -0.733939   -0.723313        -1.498521   \n",
       "241 -0.282172 -0.477137  1.362511   -0.723313         1.734413   \n",
       "\n",
       "     CoapplicantIncome  LoanAmount  Loan_Amount_Term  Credit_History  \\\n",
       "707          -0.862173    0.586401          0.314995       -0.541961   \n",
       "330           1.948670    1.932859          0.314995        1.845150   \n",
       "745           0.992078   -0.156143         -3.320051        1.453159   \n",
       "258           0.271231   -0.132481          0.314995       -0.541961   \n",
       "156          -0.862173   -1.237198         -3.320051       -0.541961   \n",
       "..                 ...         ...               ...             ...   \n",
       "765          -0.719552   -0.544897          0.314995       -0.541961   \n",
       "314          -0.862173   -0.804918          0.314995       -0.541961   \n",
       "682           1.087899    0.785976          0.314995        1.845150   \n",
       "93           -0.658160   -1.693494          0.314995       -0.541961   \n",
       "241          -0.862173    1.260423          0.314995        1.845150   \n",
       "\n",
       "     Property_Area  \n",
       "707       1.227472  \n",
       "330      -0.039525  \n",
       "745       1.227472  \n",
       "258      -1.306522  \n",
       "156       1.227472  \n",
       "..             ...  \n",
       "765       1.227472  \n",
       "314      -0.039525  \n",
       "682       1.227472  \n",
       "93       -0.039525  \n",
       "241       1.227472  \n",
       "\n",
       "[557 rows x 10 columns]"
      ]
     },
     "execution_count": 85,
     "metadata": {},
     "output_type": "execute_result"
    }
   ],
   "source": [
    "x_train"
   ]
  },
  {
   "cell_type": "code",
   "execution_count": 86,
   "id": "5528d878",
   "metadata": {},
   "outputs": [
    {
     "data": {
      "text/html": [
       "<div>\n",
       "<style scoped>\n",
       "    .dataframe tbody tr th:only-of-type {\n",
       "        vertical-align: middle;\n",
       "    }\n",
       "\n",
       "    .dataframe tbody tr th {\n",
       "        vertical-align: top;\n",
       "    }\n",
       "\n",
       "    .dataframe thead th {\n",
       "        text-align: right;\n",
       "    }\n",
       "</style>\n",
       "<table border=\"1\" class=\"dataframe\">\n",
       "  <thead>\n",
       "    <tr style=\"text-align: right;\">\n",
       "      <th></th>\n",
       "      <th>Loan_ID</th>\n",
       "      <th>Gender</th>\n",
       "      <th>Married</th>\n",
       "      <th>Dependents</th>\n",
       "      <th>ApplicantIncome</th>\n",
       "      <th>CoapplicantIncome</th>\n",
       "      <th>LoanAmount</th>\n",
       "      <th>Loan_Amount_Term</th>\n",
       "      <th>Credit_History</th>\n",
       "      <th>Property_Area</th>\n",
       "    </tr>\n",
       "  </thead>\n",
       "  <tbody>\n",
       "    <tr>\n",
       "      <th>42</th>\n",
       "      <td>-1.476898</td>\n",
       "      <td>-0.477137</td>\n",
       "      <td>-0.733939</td>\n",
       "      <td>-0.723313</td>\n",
       "      <td>0.555430</td>\n",
       "      <td>-0.862173</td>\n",
       "      <td>-0.852949</td>\n",
       "      <td>-0.593766</td>\n",
       "      <td>-0.541961</td>\n",
       "      <td>1.227472</td>\n",
       "    </tr>\n",
       "    <tr>\n",
       "      <th>162</th>\n",
       "      <td>-0.756460</td>\n",
       "      <td>-0.477137</td>\n",
       "      <td>-0.733939</td>\n",
       "      <td>-0.723313</td>\n",
       "      <td>-1.594916</td>\n",
       "      <td>0.101221</td>\n",
       "      <td>-0.876964</td>\n",
       "      <td>0.314995</td>\n",
       "      <td>-0.541961</td>\n",
       "      <td>-1.306522</td>\n",
       "    </tr>\n",
       "    <tr>\n",
       "      <th>108</th>\n",
       "      <td>-1.080657</td>\n",
       "      <td>-0.477137</td>\n",
       "      <td>-0.733939</td>\n",
       "      <td>-0.723313</td>\n",
       "      <td>-0.200899</td>\n",
       "      <td>1.801328</td>\n",
       "      <td>0.491924</td>\n",
       "      <td>-0.593766</td>\n",
       "      <td>1.845150</td>\n",
       "      <td>-1.306522</td>\n",
       "    </tr>\n",
       "    <tr>\n",
       "      <th>132</th>\n",
       "      <td>-0.936570</td>\n",
       "      <td>-0.477137</td>\n",
       "      <td>-0.733939</td>\n",
       "      <td>1.288020</td>\n",
       "      <td>0.310736</td>\n",
       "      <td>-0.295471</td>\n",
       "      <td>-0.060434</td>\n",
       "      <td>0.314995</td>\n",
       "      <td>-0.541961</td>\n",
       "      <td>-1.306522</td>\n",
       "    </tr>\n",
       "    <tr>\n",
       "      <th>283</th>\n",
       "      <td>-0.030018</td>\n",
       "      <td>2.095835</td>\n",
       "      <td>1.362511</td>\n",
       "      <td>-0.723313</td>\n",
       "      <td>0.703730</td>\n",
       "      <td>1.109951</td>\n",
       "      <td>0.467909</td>\n",
       "      <td>1.223757</td>\n",
       "      <td>-0.541961</td>\n",
       "      <td>-1.306522</td>\n",
       "    </tr>\n",
       "    <tr>\n",
       "      <th>...</th>\n",
       "      <td>...</td>\n",
       "      <td>...</td>\n",
       "      <td>...</td>\n",
       "      <td>...</td>\n",
       "      <td>...</td>\n",
       "      <td>...</td>\n",
       "      <td>...</td>\n",
       "      <td>...</td>\n",
       "      <td>...</td>\n",
       "      <td>...</td>\n",
       "    </tr>\n",
       "    <tr>\n",
       "      <th>791</th>\n",
       "      <td>-0.005044</td>\n",
       "      <td>-0.477137</td>\n",
       "      <td>1.362511</td>\n",
       "      <td>-0.723313</td>\n",
       "      <td>-1.447687</td>\n",
       "      <td>-0.862173</td>\n",
       "      <td>0.357178</td>\n",
       "      <td>0.314995</td>\n",
       "      <td>-0.541961</td>\n",
       "      <td>1.188780</td>\n",
       "    </tr>\n",
       "    <tr>\n",
       "      <th>520</th>\n",
       "      <td>1.392847</td>\n",
       "      <td>-0.477137</td>\n",
       "      <td>-0.733939</td>\n",
       "      <td>0.282353</td>\n",
       "      <td>-1.142602</td>\n",
       "      <td>0.939940</td>\n",
       "      <td>0.371846</td>\n",
       "      <td>0.314995</td>\n",
       "      <td>-0.541961</td>\n",
       "      <td>-1.306522</td>\n",
       "    </tr>\n",
       "    <tr>\n",
       "      <th>57</th>\n",
       "      <td>-1.386843</td>\n",
       "      <td>-0.477137</td>\n",
       "      <td>-0.733939</td>\n",
       "      <td>1.288020</td>\n",
       "      <td>-0.371443</td>\n",
       "      <td>1.268627</td>\n",
       "      <td>0.299799</td>\n",
       "      <td>0.314995</td>\n",
       "      <td>-0.541961</td>\n",
       "      <td>1.227472</td>\n",
       "    </tr>\n",
       "    <tr>\n",
       "      <th>125</th>\n",
       "      <td>-0.978595</td>\n",
       "      <td>-0.477137</td>\n",
       "      <td>1.362511</td>\n",
       "      <td>-0.723313</td>\n",
       "      <td>-1.476276</td>\n",
       "      <td>0.373238</td>\n",
       "      <td>-1.261214</td>\n",
       "      <td>0.314995</td>\n",
       "      <td>-0.541961</td>\n",
       "      <td>1.227472</td>\n",
       "    </tr>\n",
       "    <tr>\n",
       "      <th>615</th>\n",
       "      <td>0.360083</td>\n",
       "      <td>2.095835</td>\n",
       "      <td>1.362511</td>\n",
       "      <td>-0.723313</td>\n",
       "      <td>1.080588</td>\n",
       "      <td>-0.158794</td>\n",
       "      <td>0.993214</td>\n",
       "      <td>0.639115</td>\n",
       "      <td>-0.541961</td>\n",
       "      <td>-1.306522</td>\n",
       "    </tr>\n",
       "  </tbody>\n",
       "</table>\n",
       "<p>239 rows × 10 columns</p>\n",
       "</div>"
      ],
      "text/plain": [
       "      Loan_ID    Gender   Married  Dependents  ApplicantIncome  \\\n",
       "42  -1.476898 -0.477137 -0.733939   -0.723313         0.555430   \n",
       "162 -0.756460 -0.477137 -0.733939   -0.723313        -1.594916   \n",
       "108 -1.080657 -0.477137 -0.733939   -0.723313        -0.200899   \n",
       "132 -0.936570 -0.477137 -0.733939    1.288020         0.310736   \n",
       "283 -0.030018  2.095835  1.362511   -0.723313         0.703730   \n",
       "..        ...       ...       ...         ...              ...   \n",
       "791 -0.005044 -0.477137  1.362511   -0.723313        -1.447687   \n",
       "520  1.392847 -0.477137 -0.733939    0.282353        -1.142602   \n",
       "57  -1.386843 -0.477137 -0.733939    1.288020        -0.371443   \n",
       "125 -0.978595 -0.477137  1.362511   -0.723313        -1.476276   \n",
       "615  0.360083  2.095835  1.362511   -0.723313         1.080588   \n",
       "\n",
       "     CoapplicantIncome  LoanAmount  Loan_Amount_Term  Credit_History  \\\n",
       "42           -0.862173   -0.852949         -0.593766       -0.541961   \n",
       "162           0.101221   -0.876964          0.314995       -0.541961   \n",
       "108           1.801328    0.491924         -0.593766        1.845150   \n",
       "132          -0.295471   -0.060434          0.314995       -0.541961   \n",
       "283           1.109951    0.467909          1.223757       -0.541961   \n",
       "..                 ...         ...               ...             ...   \n",
       "791          -0.862173    0.357178          0.314995       -0.541961   \n",
       "520           0.939940    0.371846          0.314995       -0.541961   \n",
       "57            1.268627    0.299799          0.314995       -0.541961   \n",
       "125           0.373238   -1.261214          0.314995       -0.541961   \n",
       "615          -0.158794    0.993214          0.639115       -0.541961   \n",
       "\n",
       "     Property_Area  \n",
       "42        1.227472  \n",
       "162      -1.306522  \n",
       "108      -1.306522  \n",
       "132      -1.306522  \n",
       "283      -1.306522  \n",
       "..             ...  \n",
       "791       1.188780  \n",
       "520      -1.306522  \n",
       "57        1.227472  \n",
       "125       1.227472  \n",
       "615      -1.306522  \n",
       "\n",
       "[239 rows x 10 columns]"
      ]
     },
     "execution_count": 86,
     "metadata": {},
     "output_type": "execute_result"
    }
   ],
   "source": [
    "x_test"
   ]
  },
  {
   "cell_type": "code",
   "execution_count": 87,
   "id": "6c26c255",
   "metadata": {},
   "outputs": [
    {
     "data": {
      "text/plain": [
       "707    1\n",
       "330    0\n",
       "745    1\n",
       "258    0\n",
       "156    0\n",
       "      ..\n",
       "765    1\n",
       "314    0\n",
       "682    1\n",
       "93     0\n",
       "241    1\n",
       "Name: Loan_Status, Length: 557, dtype: int64"
      ]
     },
     "execution_count": 87,
     "metadata": {},
     "output_type": "execute_result"
    }
   ],
   "source": [
    "y_train"
   ]
  },
  {
   "cell_type": "code",
   "execution_count": 88,
   "id": "8372c85b",
   "metadata": {},
   "outputs": [
    {
     "data": {
      "text/plain": [
       "42     0\n",
       "162    0\n",
       "108    1\n",
       "132    1\n",
       "283    1\n",
       "      ..\n",
       "791    1\n",
       "520    0\n",
       "57     0\n",
       "125    0\n",
       "615    1\n",
       "Name: Loan_Status, Length: 239, dtype: int64"
      ]
     },
     "execution_count": 88,
     "metadata": {},
     "output_type": "execute_result"
    }
   ],
   "source": [
    "y_test"
   ]
  },
  {
   "cell_type": "code",
   "execution_count": 89,
   "id": "b78667d9",
   "metadata": {},
   "outputs": [
    {
     "name": "stdout",
     "output_type": "stream",
     "text": [
      "x_train shape = (557, 10)\n",
      "x_test shape = (239, 10)\n",
      "y_train shape = (557,)\n",
      "y_test shape = (239,)\n"
     ]
    }
   ],
   "source": [
    "print(\"x_train shape =\",x_train.shape)\n",
    "print(\"x_test shape =\",x_test.shape)\n",
    "print(\"y_train shape =\",y_train.shape)\n",
    "print(\"y_test shape =\",y_test.shape)"
   ]
  },
  {
   "cell_type": "code",
   "execution_count": 90,
   "id": "f7b4d5ce",
   "metadata": {},
   "outputs": [],
   "source": [
    "lg=LogisticRegression()\n",
    "gn=GaussianNB()\n",
    "svc=SVC()\n",
    "dtc=DecisionTreeClassifier()\n",
    "knc=KNeighborsClassifier()\n",
    "rfc=RandomForestClassifier()\n",
    "gbc=GradientBoostingClassifier()\n",
    "abc=AdaBoostClassifier()"
   ]
  },
  {
   "cell_type": "code",
   "execution_count": 91,
   "id": "8ddd3c3c",
   "metadata": {},
   "outputs": [],
   "source": [
    "model=[lg,gn,svc,dtc,knc,rfc,gbc,abc]"
   ]
  },
  {
   "cell_type": "code",
   "execution_count": 92,
   "id": "c0684499",
   "metadata": {
    "scrolled": false
   },
   "outputs": [
    {
     "name": "stdout",
     "output_type": "stream",
     "text": [
      "Accuracy score of  LogisticRegression() is\n",
      "0.6736401673640168\n",
      "[[99 19]\n",
      " [59 62]]\n",
      "              precision    recall  f1-score   support\n",
      "\n",
      "           0       0.63      0.84      0.72       118\n",
      "           1       0.77      0.51      0.61       121\n",
      "\n",
      "    accuracy                           0.67       239\n",
      "   macro avg       0.70      0.68      0.67       239\n",
      "weighted avg       0.70      0.67      0.66       239\n",
      "\n",
      "####################################################################################################\n",
      "Accuracy score of  GaussianNB() is\n",
      "0.6610878661087866\n",
      "[[106  12]\n",
      " [ 69  52]]\n",
      "              precision    recall  f1-score   support\n",
      "\n",
      "           0       0.61      0.90      0.72       118\n",
      "           1       0.81      0.43      0.56       121\n",
      "\n",
      "    accuracy                           0.66       239\n",
      "   macro avg       0.71      0.66      0.64       239\n",
      "weighted avg       0.71      0.66      0.64       239\n",
      "\n",
      "####################################################################################################\n",
      "Accuracy score of  SVC() is\n",
      "0.7405857740585774\n",
      "[[97 21]\n",
      " [41 80]]\n",
      "              precision    recall  f1-score   support\n",
      "\n",
      "           0       0.70      0.82      0.76       118\n",
      "           1       0.79      0.66      0.72       121\n",
      "\n",
      "    accuracy                           0.74       239\n",
      "   macro avg       0.75      0.74      0.74       239\n",
      "weighted avg       0.75      0.74      0.74       239\n",
      "\n",
      "####################################################################################################\n",
      "Accuracy score of  DecisionTreeClassifier() is\n",
      "0.7573221757322176\n",
      "[[87 31]\n",
      " [27 94]]\n",
      "              precision    recall  f1-score   support\n",
      "\n",
      "           0       0.76      0.74      0.75       118\n",
      "           1       0.75      0.78      0.76       121\n",
      "\n",
      "    accuracy                           0.76       239\n",
      "   macro avg       0.76      0.76      0.76       239\n",
      "weighted avg       0.76      0.76      0.76       239\n",
      "\n",
      "####################################################################################################\n",
      "Accuracy score of  KNeighborsClassifier() is\n",
      "0.799163179916318\n",
      "[[ 90  28]\n",
      " [ 20 101]]\n",
      "              precision    recall  f1-score   support\n",
      "\n",
      "           0       0.82      0.76      0.79       118\n",
      "           1       0.78      0.83      0.81       121\n",
      "\n",
      "    accuracy                           0.80       239\n",
      "   macro avg       0.80      0.80      0.80       239\n",
      "weighted avg       0.80      0.80      0.80       239\n",
      "\n",
      "####################################################################################################\n",
      "Accuracy score of  RandomForestClassifier() is\n",
      "0.8117154811715481\n",
      "[[102  16]\n",
      " [ 29  92]]\n",
      "              precision    recall  f1-score   support\n",
      "\n",
      "           0       0.78      0.86      0.82       118\n",
      "           1       0.85      0.76      0.80       121\n",
      "\n",
      "    accuracy                           0.81       239\n",
      "   macro avg       0.82      0.81      0.81       239\n",
      "weighted avg       0.82      0.81      0.81       239\n",
      "\n",
      "####################################################################################################\n",
      "Accuracy score of  GradientBoostingClassifier() is\n",
      "0.7782426778242678\n",
      "[[99 19]\n",
      " [34 87]]\n",
      "              precision    recall  f1-score   support\n",
      "\n",
      "           0       0.74      0.84      0.79       118\n",
      "           1       0.82      0.72      0.77       121\n",
      "\n",
      "    accuracy                           0.78       239\n",
      "   macro avg       0.78      0.78      0.78       239\n",
      "weighted avg       0.78      0.78      0.78       239\n",
      "\n",
      "####################################################################################################\n",
      "Accuracy score of  AdaBoostClassifier() is\n",
      "0.7238493723849372\n",
      "[[96 22]\n",
      " [44 77]]\n",
      "              precision    recall  f1-score   support\n",
      "\n",
      "           0       0.69      0.81      0.74       118\n",
      "           1       0.78      0.64      0.70       121\n",
      "\n",
      "    accuracy                           0.72       239\n",
      "   macro avg       0.73      0.72      0.72       239\n",
      "weighted avg       0.73      0.72      0.72       239\n",
      "\n",
      "####################################################################################################\n"
     ]
    }
   ],
   "source": [
    "for m in model:\n",
    "    m.fit(x_train,y_train)\n",
    "    predm=m.predict(x_test)\n",
    "    print('Accuracy score of ',m,'is')\n",
    "    print(accuracy_score(y_test,predm))\n",
    "    print(confusion_matrix(y_test,predm))\n",
    "    print(classification_report(y_test,predm))\n",
    "    print('#'*100)"
   ]
  },
  {
   "cell_type": "code",
   "execution_count": 93,
   "id": "8d3a8bda",
   "metadata": {
    "scrolled": false
   },
   "outputs": [
    {
     "name": "stdout",
     "output_type": "stream",
     "text": [
      "For CV = 2\n",
      "cross validation score of LogisticRegression() is = 0.3944723618090452\n",
      "cross validation score of GaussianNB() is = 0.3894472361809045\n",
      "cross validation score of SVC() is = 0.4886934673366834\n",
      "cross validation score of DecisionTreeClassifier() is = 0.4170854271356784\n",
      "cross validation score of KNeighborsClassifier() is = 0.5904522613065326\n",
      "cross validation score of RandomForestClassifier() is = 0.4158291457286432\n",
      "cross validation score of GradientBoostingClassifier() is = 0.37688442211055273\n",
      "cross validation score of AdaBoostClassifier() is = 0.3517587939698492\n",
      "****************************************************************************************************\n",
      "For CV = 3\n",
      "cross validation score of LogisticRegression() is = 0.5188915685440015\n",
      "cross validation score of GaussianNB() is = 0.47244526410365534\n",
      "cross validation score of SVC() is = 0.5904951056887501\n",
      "cross validation score of DecisionTreeClassifier() is = 0.37184470610488485\n",
      "cross validation score of KNeighborsClassifier() is = 0.6784130136662411\n",
      "cross validation score of RandomForestClassifier() is = 0.41961034662127017\n",
      "cross validation score of GradientBoostingClassifier() is = 0.35676455289166314\n",
      "cross validation score of AdaBoostClassifier() is = 0.3341088570482811\n",
      "****************************************************************************************************\n",
      "For CV = 4\n",
      "cross validation score of LogisticRegression() is = 0.6180904522613065\n",
      "cross validation score of GaussianNB() is = 0.5452261306532663\n",
      "cross validation score of SVC() is = 0.6670854271356783\n",
      "cross validation score of DecisionTreeClassifier() is = 0.44723618090452255\n",
      "cross validation score of KNeighborsClassifier() is = 0.714824120603015\n",
      "cross validation score of RandomForestClassifier() is = 0.4459798994974874\n",
      "cross validation score of GradientBoostingClassifier() is = 0.37939698492462315\n",
      "cross validation score of AdaBoostClassifier() is = 0.3379396984924623\n",
      "****************************************************************************************************\n",
      "For CV = 5\n",
      "cross validation score of LogisticRegression() is = 0.645691823899371\n",
      "cross validation score of GaussianNB() is = 0.6256289308176101\n",
      "cross validation score of SVC() is = 0.7072798742138364\n",
      "cross validation score of DecisionTreeClassifier() is = 0.4963286163522012\n",
      "cross validation score of KNeighborsClassifier() is = 0.7336163522012579\n",
      "cross validation score of RandomForestClassifier() is = 0.5164937106918239\n",
      "cross validation score of GradientBoostingClassifier() is = 0.3819261006289308\n",
      "cross validation score of AdaBoostClassifier() is = 0.34422955974842767\n",
      "****************************************************************************************************\n",
      "For CV = 6\n",
      "cross validation score of LogisticRegression() is = 0.672068428647376\n",
      "cross validation score of GaussianNB() is = 0.6443096377306903\n",
      "cross validation score of SVC() is = 0.7236177565124934\n",
      "cross validation score of DecisionTreeClassifier() is = 0.5063605984658616\n",
      "cross validation score of KNeighborsClassifier() is = 0.7475791752107542\n",
      "cross validation score of RandomForestClassifier() is = 0.5616598313966735\n",
      "cross validation score of GradientBoostingClassifier() is = 0.39709121288068655\n",
      "cross validation score of AdaBoostClassifier() is = 0.3719241285030759\n",
      "****************************************************************************************************\n",
      "For CV = 7\n",
      "cross validation score of LogisticRegression() is = 0.6745846918180407\n",
      "cross validation score of GaussianNB() is = 0.6669439084436756\n",
      "cross validation score of SVC() is = 0.7399693925078182\n",
      "cross validation score of DecisionTreeClassifier() is = 0.5893716592365871\n",
      "cross validation score of KNeighborsClassifier() is = 0.7438064187016213\n",
      "cross validation score of RandomForestClassifier() is = 0.6319338168429924\n",
      "cross validation score of GradientBoostingClassifier() is = 0.4710337791381108\n",
      "cross validation score of AdaBoostClassifier() is = 0.40075853350189633\n",
      "****************************************************************************************************\n",
      "For CV = 8\n",
      "cross validation score of LogisticRegression() is = 0.6821843434343434\n",
      "cross validation score of GaussianNB() is = 0.6732702020202019\n",
      "cross validation score of SVC() is = 0.7476262626262626\n",
      "cross validation score of DecisionTreeClassifier() is = 0.6234848484848485\n",
      "cross validation score of KNeighborsClassifier() is = 0.7614267676767678\n",
      "cross validation score of RandomForestClassifier() is = 0.6661616161616162\n",
      "cross validation score of GradientBoostingClassifier() is = 0.4700631313131313\n",
      "cross validation score of AdaBoostClassifier() is = 0.418459595959596\n",
      "****************************************************************************************************\n",
      "For CV = 9\n",
      "cross validation score of LogisticRegression() is = 0.6810095335376234\n",
      "cross validation score of GaussianNB() is = 0.6808676654182272\n",
      "cross validation score of SVC() is = 0.7501986153671547\n",
      "cross validation score of DecisionTreeClassifier() is = 0.6110685506752923\n",
      "cross validation score of KNeighborsClassifier() is = 0.7589802519577801\n",
      "cross validation score of RandomForestClassifier() is = 0.6801583248212463\n",
      "cross validation score of GradientBoostingClassifier() is = 0.4890194075587334\n",
      "cross validation score of AdaBoostClassifier() is = 0.4348115991374419\n",
      "****************************************************************************************************\n"
     ]
    }
   ],
   "source": [
    "for i in range(2,10):\n",
    "    print(\"For CV =\",i)\n",
    "    for m in model:\n",
    "        scr=cross_val_score(m,x,y,cv=i)\n",
    "        print(\"cross validation score of\",m,\"is =\",scr.mean())\n",
    "    print('*'*100)"
   ]
  },
  {
   "cell_type": "code",
   "execution_count": 94,
   "id": "ca2b16f9",
   "metadata": {
    "scrolled": false
   },
   "outputs": [
    {
     "data": {
      "text/plain": [
       "{'criterion': 'entropy', 'max_depth': 8, 'max_features': 'auto'}"
      ]
     },
     "execution_count": 94,
     "metadata": {},
     "output_type": "execute_result"
    }
   ],
   "source": [
    "parameters={'max_features':['auto','sqrt','log2'],'max_depth':[4,5,6,7,8],'criterion':['gini','entropy']}\n",
    "gcv1=GridSearchCV(RandomForestClassifier(),parameters,cv=9,scoring='accuracy')\n",
    "gcv1.fit(x_train,y_train)\n",
    "gcv1.best_params_"
   ]
  },
  {
   "cell_type": "code",
   "execution_count": 95,
   "id": "362d16eb",
   "metadata": {},
   "outputs": [
    {
     "data": {
      "text/plain": [
       "RandomForestClassifier(criterion='entropy', max_depth=8)"
      ]
     },
     "execution_count": 95,
     "metadata": {},
     "output_type": "execute_result"
    }
   ],
   "source": [
    "gcv1.best_estimator_"
   ]
  },
  {
   "cell_type": "code",
   "execution_count": 96,
   "id": "fa9035fd",
   "metadata": {},
   "outputs": [],
   "source": [
    "final_model=RandomForestClassifier(max_depth=8, max_features='auto')"
   ]
  },
  {
   "cell_type": "code",
   "execution_count": 97,
   "id": "1e7b7cdd",
   "metadata": {},
   "outputs": [
    {
     "name": "stdout",
     "output_type": "stream",
     "text": [
      "Test Accuracy= 0.7615062761506276\n",
      "Train Accuracy= 0.9317773788150808\n",
      "[[96 22]\n",
      " [44 77]]\n",
      "              precision    recall  f1-score   support\n",
      "\n",
      "           0       0.69      0.81      0.74       118\n",
      "           1       0.78      0.64      0.70       121\n",
      "\n",
      "    accuracy                           0.72       239\n",
      "   macro avg       0.73      0.72      0.72       239\n",
      "weighted avg       0.73      0.72      0.72       239\n",
      "\n"
     ]
    }
   ],
   "source": [
    "final_model.fit(x_train,y_train)\n",
    "predm1=final_model.predict(x_test)\n",
    "predm2=final_model.predict(x_train)\n",
    "\n",
    "\n",
    "print(\"Test Accuracy=\",final_model.score(x_test,y_test))\n",
    "print(\"Train Accuracy=\",final_model.score(x_train,y_train))\n",
    "\n",
    "print(confusion_matrix(y_test,predm))\n",
    "print(classification_report(y_test,predm))"
   ]
  },
  {
   "cell_type": "code",
   "execution_count": 98,
   "id": "9893bafd",
   "metadata": {},
   "outputs": [
    {
     "data": {
      "image/png": "[encoded data removed]",
      "text/plain": [
       "<Figure size 432x288 with 1 Axes>"
      ]
     },
     "metadata": {
      "needs_background": "light"
     },
     "output_type": "display_data"
    }
   ],
   "source": [
    "disp = plot_roc_curve(rfc,x_test,y_test)\n",
    "plot_roc_curve(lg, x_test, y_test, ax=disp.ax_)     \n",
    "plot_roc_curve(gn, x_test, y_test, ax=disp.ax_)\n",
    "plot_roc_curve(svc, x_test, y_test, ax=disp.ax_)\n",
    "plot_roc_curve(dtc, x_test, y_test, ax=disp.ax_)\n",
    "plot_roc_curve(knc, x_test, y_test, ax=disp.ax_)\n",
    "plot_roc_curve(gbc, x_test, y_test, ax=disp.ax_)\n",
    "plot_roc_curve(abc, x_test, y_test, ax=disp.ax_)\n",
    "\n",
    "plt.legend(prop={'size':11}, loc='lower right')\n",
    "plt.show()"
   ]
  },
  {
   "cell_type": "code",
   "execution_count": 99,
   "id": "f5500c95",
   "metadata": {},
   "outputs": [
    {
     "data": {
      "text/plain": [
       "['Loan Application Status Prediction.pkl']"
      ]
     },
     "execution_count": 99,
     "metadata": {},
     "output_type": "execute_result"
    }
   ],
   "source": [
    "joblib.dump(model,\"Loan Application Status Prediction.pkl\")"
   ]
  },
  {
   "cell_type": "code",
   "execution_count": null,
   "id": "f042531f",
   "metadata": {},
   "outputs": [],
   "source": []
  },
  {
   "cell_type": "code",
   "execution_count": null,
   "id": "f43576cb",
   "metadata": {},
   "outputs": [],
   "source": []
  }
 ],
 "metadata": {
  "kernelspec": {
   "display_name": "Python 3 (ipykernel)",
   "language": "python",
   "name": "python3"
  },
  "language_info": {
   "codemirror_mode": {
    "name": "ipython",
    "version": 3
   },
   "file_extension": ".py",
   "mimetype": "text/x-python",
   "name": "python",
   "nbconvert_exporter": "python",
   "pygments_lexer": "ipython3",
   "version": "3.9.7"
  }
 },
 "nbformat": 4,
 "nbformat_minor": 5
}
